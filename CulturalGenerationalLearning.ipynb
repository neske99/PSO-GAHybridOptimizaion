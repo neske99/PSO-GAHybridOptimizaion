{
 "cells": [
  {
   "cell_type": "code",
   "execution_count": 128,
   "id": "38eb0724-e547-4ecc-9c44-5eddfb983a42",
   "metadata": {},
   "outputs": [],
   "source": [
    "import numpy as np\n",
    "import random\n",
    "import pandas as pd \n",
    "from copy import deepcopy"
   ]
  },
  {
   "cell_type": "code",
   "execution_count": 129,
   "id": "b4aaa936-f046-4780-8710-739909599a2b",
   "metadata": {},
   "outputs": [],
   "source": [
    "def rastrigin(x):\n",
    "    A = 10\n",
    "    n = len(x)\n",
    "    return -(A*n + sum(x[i]**2 - A*np.cos(2*np.pi*x[i]) for i in range(n)))"
   ]
  },
  {
   "cell_type": "code",
   "execution_count": 130,
   "id": "280d033e-394a-4ed3-b240-e796e3ba91c7",
   "metadata": {},
   "outputs": [],
   "source": [
    "class Individual:\n",
    "    global_best_position=None\n",
    "    global_best_fitness=None\n",
    "    def __init__(self,bounds,velocity_calc,calc_fitness,age=0,life_expectancy=120):\n",
    "        self.lower_bounds = np.array([bound[0] for bound in bounds])\n",
    "        self.upper_bounds = np.array([bound[1] for bound in bounds])        \n",
    "\n",
    "        self.life_expectancy=life_expectancy\n",
    "        \n",
    "        self.position = np.random.uniform(self.lower_bounds, self.upper_bounds, len(bounds))\n",
    "        self.velocity = np.random.uniform(self.lower_bounds - self.upper_bounds,\n",
    "                                          self.upper_bounds - self.lower_bounds,\n",
    "                                          len(bounds))\n",
    "        self.calc_fitness=calc_fitness\n",
    "        self.fitness=calc_fitness(self.position)\n",
    "        self.age=age\n",
    "\n",
    "        self.velocity_calc=velocity_calc\n",
    "        \n",
    "        self.personal_best_fitness=self.fitness\n",
    "        self.personal_best_position=self.position.copy()\n",
    "\n",
    "        self.patriarch_best_fitness=self.fitness\n",
    "        self.patriarch_best_position=self.position.copy()\n",
    "        \n",
    "        if Individual.global_best_fitness is None or Individual.global_best_fitness<self.fitness:\n",
    "                Individual.global_best_fitness=self.fitness\n",
    "                Individual.global_best_position=self.position.copy()\n",
    "    \n",
    "        \n",
    "    def update_position(self):\n",
    "        self.position = np.clip(self.position + self.velocity,\n",
    "                                self.lower_bounds,\n",
    "                                self.upper_bounds)\n",
    "        self.update_fitness()\n",
    "       \n",
    "                \n",
    "    def update_velocity(self):\n",
    "        cognitive_velocity = self.velocity_calc[\"cognitive\"](self.age,self.life_expectancy)* (self.personal_best_position - self.position)\n",
    "        social_velocity = self.velocity_calc[\"group\"](self.age,self.life_expectancy)* (Individual.global_best_position - self.position)\n",
    "        inertia = self.velocity_calc[\"inertia\"](self.age,self.life_expectancy) * self.velocity\n",
    "        patriarch_velocity= self.velocity_calc[\"patriarch\"](self.age,self.life_expectancy)*(self.patriarch_best_position-self.position)\n",
    "        self.velocity = inertia + cognitive_velocity + social_velocity\n",
    "    def update_fitness(self):\n",
    "        self.fitness=self.calc_fitness(self.position)\n",
    "        if self.personal_best_fitness is None or self.fitness>self.personal_best_fitness:\n",
    "            self.personal_best_fitness=self.fitness\n",
    "            self.personal_best_position=self.position.copy()\n",
    "            if self.patriarch_best_fitness is None or self.patriarch_best_fitness<self.fitness:\n",
    "                self.patriarch_best_fitness=self.fitness\n",
    "                self.patriarch_best_position=self.position.copy()\n",
    "            \n",
    "                if Individual.global_best_fitness is None or Individual.global_best_fitness<self.fitness:\n",
    "                    Individual.global_best_fitness=self.fitness\n",
    "                    Individual.global_best_position=self.position.copy()\n",
    "    def mutate(self,mut_prob):\n",
    "        #TODO\n",
    "        for i in range(len(self.position)):\n",
    "            if random.random()<mut_prob:\n",
    "                self.position[i]+=0.01*random.uniform(self.lower_bounds[i],self.upper_bounds[i])\n",
    "            if random.random()<mut_prob:\n",
    "                self.velocity[i]+=0.01*random.uniform(self.lower_bounds[i],self.upper_bounds[i])\n",
    "        self.position = np.clip(self.position + self.velocity,\n",
    "                                self.lower_bounds,\n",
    "                                self.upper_bounds)"
   ]
  },
  {
   "cell_type": "code",
   "execution_count": 131,
   "id": "6097e091-8cc9-43f4-ae47-6e0036c3bcb5",
   "metadata": {},
   "outputs": [],
   "source": [
    "def crossover(p1:Individual,p2:Individual,c1:Individual,c2:Individual):\n",
    "    coef=random.random()\n",
    "    c1.position=coef*p1.position + (1-coef)*p2.position\n",
    "    c1.velocity=coef*p1.velocity + (1-coef)*p2.velocity\n",
    "\n",
    "    c2.position=coef*p2.position +(1-coef)*p1.position\n",
    "    c2.velocity= coef*p2.velocity +(1-coef)*p1.velocity\n",
    "\n",
    "    c1.age=0\n",
    "    c2.age=0"
   ]
  },
  {
   "cell_type": "code",
   "execution_count": 132,
   "id": "1ee8c5d2-f122-46a4-9797-486b46677a8c",
   "metadata": {},
   "outputs": [],
   "source": [
    "def mutation(ind:Individual,mut_prob=0.01):\n",
    "    #ind.mutate(mut_prob)\n",
    "    pass"
   ]
  },
  {
   "cell_type": "code",
   "execution_count": 133,
   "id": "34ace929-a74b-4f55-adb6-cb0baa12e1ca",
   "metadata": {},
   "outputs": [],
   "source": [
    "def selection(population,tournament_size):\n",
    "    allowed=random.sample(population,tournament_size)\n",
    "    return max(allowed,key=lambda x:x.fitness)"
   ]
  },
  {
   "cell_type": "code",
   "execution_count": 134,
   "id": "aef5f5f2-e1c0-40d4-819e-4973c2bad842",
   "metadata": {},
   "outputs": [],
   "source": [
    "velocity_calculator={\n",
    "    \"cognitive\": lambda age,life_expectancy:min(age,90/120*life_expectancy)/life_expectancy ,\n",
    "    \"group\" : lambda age ,life_expectancy:min(max(90/120*life_expectancy-age,0),90/120*life_expectancy)/life_expectancy,\n",
    "    \"inertia\" : lambda age , life_expectancy:(20/120),\n",
    "    \"patriarch\" :lambda age,life_expectancy:(10/120)\n",
    "    \n",
    "}\n",
    "\n",
    "def psogahybrid(pop_size, num_dimensions, num_iters,velocity_calc,life_expectancy=120,tournament_size=4):\n",
    "    bounds = [(-5.12, 5.12) for _ in range(num_dimensions)]\n",
    "    \n",
    "    population = [Individual(bounds=bounds,\n",
    "                      calc_fitness=rastrigin,life_expectancy=life_expectancy,velocity_calc=velocity_calc,age=i*life_expectancy\n",
    "                      ) for i in range(pop_size)]\n",
    "    print(Individual.global_best_fitness)\n",
    "    \n",
    "                \n",
    "    for _ in range(num_iters):\n",
    "        for i in range(len(population)):\n",
    "            \n",
    "            population[i].update_velocity()\n",
    "            population[i].update_position()\n",
    "            population[i].age+=1\n",
    "            population[i].update_fitness()\n",
    "            if population[i].age==life_expectancy:\n",
    "                \n",
    "                toPairWith=selection(population,tournament_size)\n",
    "                child1=Individual(bounds=bounds,calc_fitness=rastrigin,velocity_calc=velocity_calc,life_expectancy=life_expectancy)\n",
    "                child2=Individual(bounds=bounds,calc_fitness=rastrigin,velocity_calc=velocity_calc,life_expectancy=life_expectancy)\n",
    "                crossover(population[i],toPairWith,child1,child2)\n",
    "                mutation(child1)\n",
    "                mutation(child2)\n",
    "                population[i]=max([child1,child2],key=lambda x:x.fitness)\n",
    "                population[i].update_fitness()\n",
    "\n",
    "            \n",
    "    \n",
    "    print(Individual.global_best_position)\n",
    "    print(Individual.global_best_fitness)\n",
    "    \n",
    "    Individual.global_best_position = None\n",
    "    Individual.global_best_fitness = None"
   ]
  },
  {
   "cell_type": "code",
   "execution_count": 220,
   "id": "5fa2290a-91ad-4ca1-971f-42d3ae40575c",
   "metadata": {},
   "outputs": [
    {
     "name": "stdout",
     "output_type": "stream",
     "text": [
      "-4.14809719507044\n",
      "[-0.01133447  0.9949958 ]\n",
      "-1.0204360707706996\n"
     ]
    }
   ],
   "source": [
    "psogahybrid(pop_size=50, num_dimensions=2, num_iters=100,velocity_calc=velocity_calculator,life_expectancy=10)"
   ]
  },
  {
   "cell_type": "code",
   "execution_count": 19,
   "id": "b54dcac3-08a8-4317-b946-f23d209036a2",
   "metadata": {},
   "outputs": [],
   "source": [
    "#cultural generational learning"
   ]
  },
  {
   "cell_type": "markdown",
   "id": "8ebe6aa7-e4c7-477b-b3c0-0f581ad1a024",
   "metadata": {},
   "source": [
    "Ideja algoritma:\n",
    "   Nalik goal driven generational learning-u samo sto imamo i patriarch_best_position\n",
    "   kada update-ujemo velocity.To je jedinka sa najboljim fitnesom u njegovom porodicnom stablu.\n",
    "   Pustamo da i ona utice na ciljeve kretanja jedinke iz \"kulturoloskih razloga\" ako ima smisla.\n",
    "\n"
   ]
  },
  {
   "cell_type": "code",
   "execution_count": null,
   "id": "513b5fc0-15d7-4bad-abd6-6ec38a6d988c",
   "metadata": {},
   "outputs": [],
   "source": []
  }
 ],
 "metadata": {
  "kernelspec": {
   "display_name": "Python 3 (ipykernel)",
   "language": "python",
   "name": "python3"
  },
  "language_info": {
   "codemirror_mode": {
    "name": "ipython",
    "version": 3
   },
   "file_extension": ".py",
   "mimetype": "text/x-python",
   "name": "python",
   "nbconvert_exporter": "python",
   "pygments_lexer": "ipython3",
   "version": "3.10.12"
  }
 },
 "nbformat": 4,
 "nbformat_minor": 5
}
