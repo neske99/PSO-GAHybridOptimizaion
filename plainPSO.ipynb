{
 "cells": [
  {
   "cell_type": "code",
   "execution_count": 1,
   "metadata": {},
   "outputs": [],
   "source": [
    "import numpy as np\n",
    "import time\n",
    "import random"
   ]
  },
  {
   "cell_type": "code",
   "execution_count": 2,
   "metadata": {},
   "outputs": [],
   "source": [
    "def rastrigin(x):\n",
    "    A = 10\n",
    "    n = len(x)\n",
    "    return A*n + sum(x[i]**2 - A*np.cos(2*np.pi*x[i]) for i in range(n))"
   ]
  },
  {
   "cell_type": "code",
   "execution_count": 3,
   "metadata": {},
   "outputs": [],
   "source": [
    "def rosenbrock(x):\n",
    "    a = 1\n",
    "    b = 100\n",
    "    return (a - x[0])**2 + b*(x[1] - x[0]**2)**2"
   ]
  },
  {
   "cell_type": "code",
   "execution_count": 4,
   "metadata": {},
   "outputs": [],
   "source": [
    "def shaffer(x):\n",
    "    return ( 0.5 + (np.sin((x[0]**2 +x[1]**2))**2-0.5)/(1.0 + 0.001*(x[0]**2+x[1]**2))**2)"
   ]
  },
  {
   "cell_type": "code",
   "execution_count": 5,
   "metadata": {},
   "outputs": [],
   "source": [
    "class Particle:\n",
    "    global_best_position = None\n",
    "    global_best_value = None\n",
    "    \n",
    "    def __init__(self, bounds, obj_func, c_i,\n",
    "                 c_p, c_g):\n",
    "        self.lower_bounds = np.array([bound[0] for bound in bounds])\n",
    "        self.upper_bounds = np.array([bound[1] for bound in bounds])\n",
    "        \n",
    "        self.position = np.random.uniform(self.lower_bounds, self.upper_bounds, len(bounds))\n",
    "        self.velocity = np.random.uniform(self.lower_bounds - self.upper_bounds,\n",
    "                                          self.upper_bounds - self.lower_bounds,\n",
    "                                          len(bounds))\n",
    "\n",
    "        self.personal_best_position = self.position.copy()\n",
    "        \n",
    "        self.obj_func = obj_func\n",
    "        self.c_i = c_i\n",
    "        self.c_p = c_p\n",
    "        self.c_g = c_g\n",
    "        \n",
    "        self.value = obj_func(self.position)\n",
    "        self.personal_best_value = obj_func(self.personal_best_position)\n",
    "\n",
    "        if Particle.global_best_value is None or Particle.global_best_value > self.value:\n",
    "            Particle.global_best_value = self.value\n",
    "            Particle.global_best_position = self.position.copy()\n",
    "        \n",
    "    def update_position(self):\n",
    "        self.position = np.clip(self.position + self.velocity,\n",
    "                                self.lower_bounds,\n",
    "                                self.upper_bounds)\n",
    "        self.value = self.obj_func(self.position)\n",
    "        if self.value < self.personal_best_value:\n",
    "            self.personal_best_value = self.value\n",
    "            self.personal_best_position = self.position.copy()\n",
    "            if self.value < Particle.global_best_value:\n",
    "                Particle.global_best_value = self.value\n",
    "                Particle.global_best_position = self.position.copy()\n",
    "    \n",
    "    def update_velocity(self):\n",
    "        r_p = np.random.random(self.velocity.shape)\n",
    "        r_s = np.random.random(self.velocity.shape)\n",
    "# mozda bi imalo smisla da normiramo vektore pre ovoga\n",
    "# mozda i value ukljuciti pazljivo\n",
    "        personal_direction=(self.personal_best_position - self.position)\n",
    "        global_direction=(Particle.global_best_position - self.position)\n",
    "        \n",
    "        #if any([x>10**(-8) for x in personal_direction]):\n",
    "         #   personal_direction/=np.linalg.norm(personal_direction)\n",
    "        #if any([x!=0 for x in global_direction]):\n",
    "         #   global_direction/=np.linalg.norm(global_direction)\n",
    "        \n",
    "        cognitive_velocity = r_p * self.c_p * (personal_direction)#*np.linalg.norm(self.velocity)\n",
    "        social_velocity = r_s * self.c_g * (global_direction)#*np.linalg.norm(self.velocity)\n",
    "        inertia = self.c_i * self.velocity\n",
    "        self.velocity = np.clip(inertia + cognitive_velocity + social_velocity,2*self.lower_bounds,2*self.upper_bounds)\n",
    "        "
   ]
  },
  {
   "cell_type": "code",
   "execution_count": 6,
   "metadata": {},
   "outputs": [],
   "source": [
    "\n",
    "def pso(swarm_size, num_dimensions, c_i, c_p, c_g, allowed_time,func_to_minimize):\n",
    "    bounds = [(-5.12, 5.12) for _ in range(num_dimensions)]\n",
    "    \n",
    "    swarm = [Particle(bounds=bounds,\n",
    "                      obj_func=func_to_minimize,\n",
    "                      c_i=c_i,\n",
    "                      c_p=c_p,\n",
    "                      c_g=c_g) for _ in range(swarm_size)]\n",
    "    #print(Particle.global_best_value)\n",
    "    start=time.time()\n",
    "    while True:\n",
    "        for particle in swarm:\n",
    "            particle.update_velocity()\n",
    "            particle.update_position()\n",
    "        if time.time() - start>allowed_time:\n",
    "            tmp=Particle.global_best_value\n",
    "            Particle.global_best_position=None\n",
    "            Particle.global_best_value=None\n",
    "            return tmp"
   ]
  },
  {
   "cell_type": "code",
   "execution_count": 7,
   "metadata": {},
   "outputs": [
    {
     "data": {
      "text/plain": [
       "0.1906185174873264"
      ]
     },
     "execution_count": 7,
     "metadata": {},
     "output_type": "execute_result"
    }
   ],
   "source": [
    "pso(swarm_size=50, num_dimensions=2, c_i=0.7, c_p=1.0, c_g=1.0, allowed_time=0.01,func_to_minimize=rosenbrock)"
   ]
  },
  {
   "cell_type": "code",
   "execution_count": 8,
   "metadata": {},
   "outputs": [],
   "source": [
    "times=[10**(-3),10**(-2),10**(-1),1]\n",
    "num_trys=1000"
   ]
  },
  {
   "cell_type": "code",
   "execution_count": null,
   "metadata": {},
   "outputs": [],
   "source": []
  },
  {
   "cell_type": "code",
   "execution_count": 9,
   "metadata": {},
   "outputs": [
    {
     "name": "stdout",
     "output_type": "stream",
     "text": [
      "Function : Shaffer\n",
      "Swarm size: 50\n",
      "Num dimensions: 2\n",
      "c_i: 0.7\n",
      "c_p: 1.0\n",
      "c_g: 1.0\n",
      "    Time : 0.001\n",
      "    Average mistake: 0.005287713421096988\n",
      "\n",
      "\n",
      "    Time : 0.01\n",
      "    Average mistake: 4.9128414442081214e-05\n",
      "\n",
      "\n",
      "    Time : 0.1\n",
      "    Average mistake: 1.0414669127101206e-14\n",
      "\n",
      "\n",
      "    Time : 1\n",
      "    Average mistake: 0.0\n",
      "\n",
      "\n"
     ]
    }
   ],
   "source": [
    " print(\"Function : Shaffer\")\n",
    "print(\"Swarm size: \" + \"50\")\n",
    "print(\"Num dimensions: \" + \"2\")\n",
    "print(\"c_i: \"+\"0.7\")\n",
    "print(\"c_p: \" + \"1.0\")\n",
    "print(\"c_g: \" + \"1.0\")\n",
    "for allowed_time in times:\n",
    "    suma=0\n",
    "    for _ in range(num_trys):\n",
    "        suma+=pso(swarm_size=50, num_dimensions=2, c_i=0.7, c_p=1.0, c_g=1.0, allowed_time=allowed_time,func_to_minimize=shaffer)\n",
    "    suma/=num_trys\n",
    "   \n",
    "    print(\"    Time : \" + str(allowed_time))\n",
    "    print(\"    Average mistake: \"+ str(suma))\n",
    "    print(\"\\n\")"
   ]
  },
  {
   "cell_type": "code",
   "execution_count": 10,
   "metadata": {},
   "outputs": [
    {
     "data": {
      "text/plain": [
       "5.0"
      ]
     },
     "execution_count": 10,
     "metadata": {},
     "output_type": "execute_result"
    }
   ],
   "source": [
    "rastrigin([1,2])"
   ]
  }
 ],
 "metadata": {
  "kernelspec": {
   "display_name": "Python 3 (ipykernel)",
   "language": "python",
   "name": "python3"
  },
  "language_info": {
   "codemirror_mode": {
    "name": "ipython",
    "version": 3
   },
   "file_extension": ".py",
   "mimetype": "text/x-python",
   "name": "python",
   "nbconvert_exporter": "python",
   "pygments_lexer": "ipython3",
   "version": "3.10.12"
  }
 },
 "nbformat": 4,
 "nbformat_minor": 4
}
