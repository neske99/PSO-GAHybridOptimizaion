{
 "cells": [
  {
   "cell_type": "code",
   "execution_count": 100,
   "id": "eda0586a-1ea8-4ea0-8494-d6e093676568",
   "metadata": {},
   "outputs": [],
   "source": [
    "import numpy as np\n",
    "import random\n",
    "import pandas as pd \n",
    "from copy import deepcopy\n",
    "import math\n",
    "import time\n",
    "from himmelblau import *"
   ]
  },
  {
   "cell_type": "code",
   "execution_count": null,
   "id": "771b9023-1759-48f0-8702-b9a17c810e3b",
   "metadata": {},
   "outputs": [],
   "source": []
  },
  {
   "cell_type": "code",
   "execution_count": 101,
   "id": "aa6c82a1-7e73-4702-9ab3-abc0d8d4da13",
   "metadata": {},
   "outputs": [],
   "source": [
    "class Individual:\n",
    "    global_best_position=None\n",
    "    global_best_fitness=None\n",
    "    def __init__(self,bounds,velocity_calc,calc_fitness):\n",
    "        self.lower_bounds = np.array([bound[0] for bound in bounds])\n",
    "        self.upper_bounds = np.array([bound[1] for bound in bounds])        \n",
    "        \n",
    "        self.position = np.random.uniform(self.lower_bounds, self.upper_bounds, len(bounds))\n",
    "        self.velocity = np.random.uniform(self.lower_bounds - self.upper_bounds,\n",
    "                                          self.upper_bounds - self.lower_bounds,\n",
    "                                          len(bounds))\n",
    "        self.calc_fitness=calc_fitness\n",
    "        self.fitness=calc_fitness(self.position)\n",
    "        \n",
    "        self.velocity_calc=velocity_calc\n",
    "        \n",
    "        self.personal_best_fitness=self.fitness\n",
    "        self.personal_best_position=self.position.copy()\n",
    "        \n",
    "        if Individual.global_best_fitness is None or Individual.global_best_fitness<self.fitness:\n",
    "                Individual.global_best_fitness=self.fitness\n",
    "                Individual.global_best_position=self.position.copy()\n",
    "            \n",
    "    def update_position(self):\n",
    "        self.position += self.velocity\n",
    "        self.clip()\n",
    "        self.update_fitness()\n",
    "       \n",
    "    def update_velocity(self):\n",
    "        personal_direction=(self.personal_best_position - self.position)\n",
    "        global_direction=(Individual.global_best_position - self.position)\n",
    "        \n",
    "        cognitive_velocity =random.random() * self.velocity_calc[\"cognitive\"]*personal_direction \n",
    "        social_velocity =random.random() * self.velocity_calc[\"group\"]* global_direction\n",
    "        inertia = self.velocity_calc[\"inertia\"] * self.velocity\n",
    "        self.velocity = inertia + cognitive_velocity + social_velocity\n",
    "        self.velocity=np.clip(self.velocity,self.lower_bounds,self.upper_bounds)\n",
    "    def update_fitness(self):\n",
    "        self.fitness=self.calc_fitness(self.position)\n",
    "        if self.personal_best_fitness is None or self.fitness>self.personal_best_fitness:\n",
    "            self.personal_best_fitness=self.fitness\n",
    "            self.personal_best_position=self.position.copy()\n",
    "            if Individual.global_best_fitness is None or Individual.global_best_fitness<self.fitness:\n",
    "                Individual.global_best_fitness=self.fitness\n",
    "                Individual.global_best_position=self.position.copy()\n",
    "    \n",
    "    def clip(self):\n",
    "        self.position=np.clip(self.position,self.lower_bounds,self.upper_bounds)\n",
    "    def mutate(self,mut_prob):\n",
    "        for i in range(len(self.position)):\n",
    "           if random.random()<mut_prob:\n",
    "               self.position+=(-1)**(random.randrange(1,3))*np.random.uniform()\n",
    "        self.clip()\n",
    "        "
   ]
  },
  {
   "cell_type": "code",
   "execution_count": 102,
   "id": "afdf194a-273d-4f89-9bf1-ab4b39d62891",
   "metadata": {},
   "outputs": [],
   "source": [
    "def crossover(p1:Individual,p2:Individual,c1:Individual,c2:Individual):\n",
    "    coef=random.random()\n",
    "    c1.position=coef*p1.position + (1-coef)*p2.position\n",
    "    c1.velocity=coef*p1.velocity + (1-coef)*p2.velocity\n",
    "    \n",
    "    c2.position=coef*p2.position +(1-coef)*p1.position\n",
    "    c2.velocity=coef*p2.velocity +(1-coef)*p1.velocity\n",
    "\n",
    "    "
   ]
  },
  {
   "cell_type": "code",
   "execution_count": 103,
   "id": "c5e205c8-fd89-46bc-9569-8cecaf783d7e",
   "metadata": {},
   "outputs": [],
   "source": [
    "def mutation(ind:Individual,mut_prob=0.01):\n",
    "    ind.mutate(mut_prob)"
   ]
  },
  {
   "cell_type": "code",
   "execution_count": 104,
   "id": "d60f0fb6-b52d-4d16-8875-01d44bb20ec1",
   "metadata": {},
   "outputs": [],
   "source": [
    "def selection(population,tournament_size):\n",
    "    allowed=random.sample(population,tournament_size)\n",
    "    return max(allowed,key=lambda x:x.fitness)"
   ]
  },
  {
   "cell_type": "code",
   "execution_count": 118,
   "id": "264e6b7e-cb71-4dcc-8406-e4f5e2efff69",
   "metadata": {},
   "outputs": [],
   "source": [
    "vezbe_velocity_calc={\n",
    "    \"cognitive\":0.7 ,\n",
    "    \"group\":1.0 ,\n",
    "    \"inertia\":1.0\n",
    "}\n",
    "def psogahybrid(pop_size, num_dimensions, allowed_time,pso_to_ga_ratio,velocity_calc,fitness_calc,elitism_size,tournament_size=4):\n",
    "    bounds = [(78, 102),(33,45),(27,45),(27,45),(27,45)]\n",
    "    \n",
    "    population = [Individual(bounds=bounds,\n",
    "                      calc_fitness=fitness_calc,velocity_calc=velocity_calc\n",
    "                      ) for i in range(pop_size)]\n",
    "    #print(Individual.global_best_fitness)\n",
    "    \n",
    "    start=time.time()\n",
    "    while True:\n",
    "        \n",
    "        if random.random()< pso_to_ga_ratio:\n",
    "            \n",
    "            for i in range(len(population)):\n",
    "               \n",
    "                population[i].update_velocity()\n",
    "                population[i].update_position()\n",
    "        else:\n",
    "            sorted(population,key=lambda x:x.fitness,reverse=True)\n",
    "            new_population=population[:]\n",
    "            for i in range(elitism_size,len(population),2):            \n",
    "                p1=selection(population,tournament_size)\n",
    "                p2=selection(population,tournament_size)\n",
    "                crossover(p1,p2,new_population[i],new_population[i+1])\n",
    "                mutation(new_population[i])\n",
    "                mutation(new_population[i+1])\n",
    "                new_population[i].update_fitness()\n",
    "                new_population[i+1].update_fitness()\n",
    "            population=new_population           \n",
    "        if time.time()-start>allowed_time:\n",
    "                tmp=Individual.global_best_position\n",
    "                if not is_feasable(Individual.global_best_position):\n",
    "                    print(\"not feasible!\")\n",
    "                Individual.global_best_fitness=None\n",
    "                Individual.global_best_position=None\n",
    "                return actual_himmelblau(tmp)"
   ]
  },
  {
   "cell_type": "code",
   "execution_count": 147,
   "id": "93c9e4f1-ee68-4a48-95f3-704e4d5a6705",
   "metadata": {
    "scrolled": true
   },
   "outputs": [
    {
     "data": {
      "text/plain": [
       "28532.757769078926"
      ]
     },
     "execution_count": 147,
     "metadata": {},
     "output_type": "execute_result"
    }
   ],
   "source": [
    "#nasa hibridna optimizacija\n",
    "psogahybrid(pop_size=50, num_dimensions=1, allowed_time=60,velocity_calc=vezbe_velocity_calc,pso_to_ga_ratio=0.85,elitism_size=4,fitness_calc=himmelblau_fittnes,tournament_size=15)"
   ]
  },
  {
   "cell_type": "code",
   "execution_count": null,
   "id": "30172fc8-6e91-4306-9e60-890b7522fcb2",
   "metadata": {},
   "outputs": [],
   "source": [
    "#goal driven generational learning"
   ]
  },
  {
   "cell_type": "markdown",
   "id": "27389dba-2427-4375-9abe-1028021b4a5f",
   "metadata": {},
   "source": [
    "Ideja algoritma:\n",
    "    Imamo populaciju jedinki koje imaju svoju poziciju u prostoru i svoje usmerenje\n",
    "    Imaju age-broj iteracija koliko je jedinka ziva.\n",
    "    Imaju life_expectancy-zivotni vek u broju iteracija\n",
    "    Pusticemo svaku jedinku da se krece kroz prostor nalik na pso dok ne bude imala \n",
    "    life expectancy godina.\n",
    "    Razlika u odnosu na pso je sto dinamicki racunamo koeficijente prema broju godina i\n",
    "    zivotnog ocekivanja.\n",
    "    Kada jedinka dostigne life expectancy godina koristimo tournament selection da bi odabrali jedinku\n",
    "    sa kojom cemo da je ukrstimo kako bi je zamenila u populaciji.(od dva deteta biramo najbolje)\n",
    "    to radimo dok ne prodjemo maximalni broj iteracija.\n",
    "    Mozda bi mutacija dovela do prevelikog diverziteta.\n",
    "    Mozda bi neki elitism doprineo.\n",
    "    "
   ]
  },
  {
   "cell_type": "code",
   "execution_count": null,
   "id": "d1b67bc1-bd28-44ed-b4e6-4fe5908d156b",
   "metadata": {},
   "outputs": [],
   "source": [
    "times=[10**(-3),10**(-2),10**(-1),1]\n",
    "num_trys=1000"
   ]
  },
  {
   "cell_type": "code",
   "execution_count": null,
   "id": "7423271d-3d06-48e9-aee1-01970c842468",
   "metadata": {},
   "outputs": [],
   "source": [
    "print(\"Function : Shaffer\")\n",
    "print(\"Population size: \" + \"50\")\n",
    "print(\"Num dimensions: \" + \"2\")\n",
    "print(\"c_i: \"+\"0.7\")\n",
    "print(\"c_p: \" + \"1.0\")\n",
    "print(\"c_g: \" + \"1.0\")\n",
    "print(\"Life expectancy: \" + \"50\")\n",
    "for allowed_time in times:\n",
    "    suma=0\n",
    "    for _ in range(num_trys):\n",
    "        suma+=psogahybrid(pop_size=50, num_dimensions=2, allowed_time=allowed_time,velocity_calc=vezbe_velocity_calc,fitness_calc=shaffer,tournament_size=10)\n",
    "    suma=-suma\n",
    "    suma/=num_trys\n",
    "    \n",
    "    print(\"    Time : \" + str(allowed_time))\n",
    "    \n",
    "    print(\"    Average mistake: \" +str(suma))\n",
    "    print(\"\\n\")"
   ]
  },
  {
   "cell_type": "code",
   "execution_count": null,
   "id": "76ebf0ef-4290-44a6-9eeb-af15de1df468",
   "metadata": {},
   "outputs": [],
   "source": []
  },
  {
   "cell_type": "code",
   "execution_count": null,
   "id": "75c6e607-afc2-480f-85c6-0a3531686b3c",
   "metadata": {},
   "outputs": [],
   "source": []
  },
  {
   "cell_type": "code",
   "execution_count": null,
   "id": "b9c297f8-89e5-4e97-b207-8a373dc2a1a5",
   "metadata": {},
   "outputs": [],
   "source": []
  },
  {
   "cell_type": "code",
   "execution_count": null,
   "id": "20418a09-fef5-49a0-adbb-b53df341fe57",
   "metadata": {},
   "outputs": [],
   "source": []
  },
  {
   "cell_type": "code",
   "execution_count": null,
   "id": "b6045d44-8380-4bb6-8586-d0b85eed1169",
   "metadata": {},
   "outputs": [],
   "source": []
  }
 ],
 "metadata": {
  "kernelspec": {
   "display_name": "Python 3 (ipykernel)",
   "language": "python",
   "name": "python3"
  },
  "language_info": {
   "codemirror_mode": {
    "name": "ipython",
    "version": 3
   },
   "file_extension": ".py",
   "mimetype": "text/x-python",
   "name": "python",
   "nbconvert_exporter": "python",
   "pygments_lexer": "ipython3",
   "version": "3.10.12"
  }
 },
 "nbformat": 4,
 "nbformat_minor": 5
}
