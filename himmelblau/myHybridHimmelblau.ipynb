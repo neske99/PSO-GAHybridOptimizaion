{
 "cells": [
  {
   "cell_type": "code",
   "execution_count": 1,
   "id": "eda0586a-1ea8-4ea0-8494-d6e093676568",
   "metadata": {},
   "outputs": [],
   "source": [
    "import numpy as np\n",
    "import random\n",
    "import pandas as pd \n",
    "from copy import deepcopy\n",
    "import math\n",
    "import time\n",
    "from math import ceil,floor"
   ]
  },
  {
   "cell_type": "code",
   "execution_count": 2,
   "id": "5d5f0880-30b3-4776-ac6d-a1e9a9e21101",
   "metadata": {},
   "outputs": [],
   "source": [
    "def g1(x):\n",
    "    x1=x[0]\n",
    "    x2=x[1]\n",
    "    x3=x[2]\n",
    "    x4=x[3]\n",
    "    x5=x[4]\n",
    "    return 85.334407 + 0.0056858*x2*x5 + 0.0006262*x1*x4 - 0.0022053*x3*x5"
   ]
  },
  {
   "cell_type": "code",
   "execution_count": 3,
   "id": "a5f56c0f-2d79-46a5-a7bb-f090c9c9bfcb",
   "metadata": {},
   "outputs": [],
   "source": [
    "def g2(x):\n",
    "    x1=x[0]\n",
    "    x2=x[1]\n",
    "    x3=x[2]\n",
    "    x4=x[3]\n",
    "    x5=x[4]\n",
    "    \n",
    "    return 80.51249 + 0.0071317*x2*x5 + 0.0029955*x1*x2 - 0.0021813*x3**2"
   ]
  },
  {
   "cell_type": "code",
   "execution_count": 4,
   "id": "5883b85b-f16a-4515-bbd6-527131cabe69",
   "metadata": {},
   "outputs": [],
   "source": [
    "def g3(x):\n",
    "    x1=x[0]\n",
    "    x2=x[1]\n",
    "    x3=x[2]\n",
    "    x4=x[3]\n",
    "    x5=x[4]\n",
    "\n",
    "    return 9.300961 + 0.0047026*x3*x5 + 0.0012547*x1*x3 + 0.0019085*x3*x4"
   ]
  },
  {
   "cell_type": "code",
   "execution_count": 5,
   "id": "fb666bf0-832c-4999-9ebb-5cc33e4de409",
   "metadata": {},
   "outputs": [],
   "source": [
    "def is_feasable(x):\n",
    "    x1=x[0]\n",
    "    x2=x[1]\n",
    "    x3=x[2]\n",
    "    x4=x[3]\n",
    "    x5=x[4]\n",
    "    if x1<78  or x1>102:\n",
    "        #print(\"x1\")\n",
    "        return False\n",
    "    if x2<33 or x2>45:\n",
    "        #print(\"x2\")\n",
    "        return False\n",
    "        \n",
    "    if x3<27 or x3>45:\n",
    "        #print(\"x3\")\n",
    "        return False\n",
    "    if x4<27 or x4>45:\n",
    "        #print(\"x4\")\n",
    "        return False\n",
    "    if x5<27 or x5>45:\n",
    "        #print(\"x5\")\n",
    "        return False\n",
    "\n",
    "    g1res=g1(x)\n",
    "    g2res=g2(x)\n",
    "    g3res=g3(x)\n",
    "\n",
    "    if g1res<0 or g1res>92:\n",
    "        #print(\"g1\")\n",
    "        return False\n",
    "    if g2res<90 or g2res>110:\n",
    "        #print(\"g2\")\n",
    "        return False\n",
    "    if g3res<20 or g3res>25:\n",
    "        #print(\"g3\")\n",
    "        return False\n",
    "    \n",
    "    return True\n",
    "    "
   ]
  },
  {
   "cell_type": "code",
   "execution_count": 6,
   "id": "d47e8a0e-56ce-45b7-b567-b9295ba850aa",
   "metadata": {},
   "outputs": [],
   "source": [
    "def himmelblau(x):\n",
    "    x3=x[2]\n",
    "    x1=x[0]\n",
    "    x5=x[4]\n",
    "    toReturn= -(5.3578547*x3**2 + 0.8356891*x1*x5 + 37.293239*x1 - 40792.141)\n",
    "    g1res=g1(x)\n",
    "    if g1res>92:\n",
    "        toReturn+=-(ceil(g1res)-92)*10000\n",
    "    elif g1res<0:\n",
    "        toReturn+=floor(g1res)*10000\n",
    "    \n",
    "    g2res=g2(x)\n",
    "    if g2res>110:\n",
    "        toReturn-=(ceil(g2res)-110)*10000\n",
    "    elif g2res<90:\n",
    "        toReturn-=(90-floor(g2res))*10000\n",
    "    \n",
    "    g3res=g3(x)\n",
    "    if g3res>25:\n",
    "        toReturn-=(ceil(g3res)-25)*10000\n",
    "    elif g3res<20:\n",
    "        toReturn-=(20-floor(g3res))*10000\n",
    "    return toReturn"
   ]
  },
  {
   "cell_type": "code",
   "execution_count": 7,
   "id": "bd166df4-25ca-465c-b0d0-3b511b3219c7",
   "metadata": {},
   "outputs": [],
   "source": [
    "def actual_himmelblau(x):\n",
    "    x3=x[2]\n",
    "    x1=x[0]\n",
    "    x5=x[4]\n",
    "    return -(5.3578547*x3**2 + 0.8356891*x1*x5 + 37.293239*x1 - 40792.141)"
   ]
  },
  {
   "cell_type": "code",
   "execution_count": null,
   "id": "71f122ed-7f5b-4081-9195-3108b572381b",
   "metadata": {},
   "outputs": [],
   "source": []
  },
  {
   "cell_type": "code",
   "execution_count": 8,
   "id": "aa6c82a1-7e73-4702-9ab3-abc0d8d4da13",
   "metadata": {},
   "outputs": [],
   "source": [
    "class Individual:\n",
    "    global_best_position=None\n",
    "    global_best_fitness=None\n",
    "    def __init__(self,bounds,velocity_calc,calc_fitness,age=0,life_expectancy=120):\n",
    "        self.lower_bounds = np.array([bound[0] for bound in bounds])\n",
    "        self.upper_bounds = np.array([bound[1] for bound in bounds])        \n",
    "\n",
    "        self.life_expectancy=life_expectancy\n",
    "        \n",
    "        self.position = np.random.uniform(self.lower_bounds, self.upper_bounds, len(bounds))\n",
    "        self.velocity = np.random.uniform(self.lower_bounds - self.upper_bounds,\n",
    "                                          self.upper_bounds - self.lower_bounds,\n",
    "                                          len(bounds))\n",
    "        self.calc_fitness=calc_fitness\n",
    "        self.fitness=calc_fitness(self.position)\n",
    "        self.age=age\n",
    "\n",
    "        self.velocity_calc=velocity_calc\n",
    "        \n",
    "        self.personal_best_fitness=self.fitness\n",
    "        self.personal_best_position=self.position.copy()\n",
    "        \n",
    "        if Individual.global_best_fitness is None or Individual.global_best_fitness<self.fitness:\n",
    "                Individual.global_best_fitness=self.fitness\n",
    "                Individual.global_best_position=self.position.copy()\n",
    "    \n",
    "        \n",
    "    def update_position(self):\n",
    "        self.position = np.clip(self.position + self.velocity,\n",
    "                                self.lower_bounds,\n",
    "                                self.upper_bounds)\n",
    "        self.update_fitness()\n",
    "       \n",
    "                \n",
    "    def update_velocity(self):\n",
    "        personal_direction=(self.personal_best_position - self.position)\n",
    "        global_direction=(Individual.global_best_position - self.position)\n",
    "        \n",
    "        #if any([x!=0 for x in personal_direction]):\n",
    "         #   personal_direction/=np.linalg.norm(personal_direction)\n",
    "        #if any([x!=0 for x in global_direction]):\n",
    "         #   global_direction/=np.linalg.norm(global_direction)\n",
    "        \n",
    "\n",
    "        \n",
    "        cognitive_velocity =random.random() * self.velocity_calc[\"cognitive\"](self.age,self.life_expectancy)*personal_direction#*np.linalg.norm(self.velocity) \n",
    "        social_velocity =random.random() * self.velocity_calc[\"group\"](self.age,self.life_expectancy)* global_direction#*np.linalg.norm(self.velocity)\n",
    "        inertia = self.velocity_calc[\"inertia\"](self.age,self.life_expectancy) * self.velocity\n",
    "        self.velocity = inertia + cognitive_velocity + social_velocity\n",
    "        self.velocity=np.clip(self.velocity,2*self.lower_bounds,2*self.upper_bounds)\n",
    "    def update_fitness(self):\n",
    "        self.fitness=self.calc_fitness(self.position)\n",
    "        if self.personal_best_fitness is None or self.fitness>self.personal_best_fitness:\n",
    "            self.personal_best_fitness=self.fitness\n",
    "            self.personal_best_position=self.position.copy()\n",
    "            if Individual.global_best_fitness is None or Individual.global_best_fitness<self.fitness:\n",
    "                Individual.global_best_fitness=self.fitness\n",
    "                Individual.global_best_position=self.position.copy()\n",
    "    def mutate(self,mut_prob):\n",
    "        #TODO\n",
    "        for i in range(len(self.position)):\n",
    "            if random.random()<mut_prob:\n",
    "                self.position[i]+=0.01*random.uniform(self.lower_bounds[i],self.upper_bounds[i])\n",
    "            if random.random()<mut_prob:\n",
    "                self.velocity[i]+=0.01*random.uniform(self.lower_bounds[i],self.upper_bounds[i])\n",
    "        self.position = np.clip(self.position + self.velocity,\n",
    "                                self.lower_bounds,\n",
    "                                self.upper_bounds)"
   ]
  },
  {
   "cell_type": "code",
   "execution_count": 9,
   "id": "afdf194a-273d-4f89-9bf1-ab4b39d62891",
   "metadata": {},
   "outputs": [],
   "source": [
    "def crossover(p1:Individual,p2:Individual,c1:Individual,c2:Individual):\n",
    "    coef=random.random()\n",
    "    c1.position=coef*p1.position + (1-coef)*p2.position\n",
    "    c1.velocity=(coef*p1.velocity + (1-coef)*p2.velocity)/2\n",
    "\n",
    "    c2.position=coef*p2.position +(1-coef)*p1.position\n",
    "    c2.velocity=(coef*p2.velocity +(1-coef)*p1.velocity)/2\n",
    "\n",
    "    c1.age=0\n",
    "    c2.age=0"
   ]
  },
  {
   "cell_type": "code",
   "execution_count": 10,
   "id": "c5e205c8-fd89-46bc-9569-8cecaf783d7e",
   "metadata": {},
   "outputs": [],
   "source": [
    "def mutation(ind:Individual,mut_prob=0.01):\n",
    "    #ind.mutate(mut_prob)\n",
    "    pass"
   ]
  },
  {
   "cell_type": "code",
   "execution_count": 11,
   "id": "d60f0fb6-b52d-4d16-8875-01d44bb20ec1",
   "metadata": {},
   "outputs": [],
   "source": [
    "def selection(population,tournament_size):\n",
    "    allowed=random.sample(population,tournament_size)\n",
    "    return max(allowed,key=lambda x:x.fitness)"
   ]
  },
  {
   "cell_type": "code",
   "execution_count": 12,
   "id": "264e6b7e-cb71-4dcc-8406-e4f5e2efff69",
   "metadata": {},
   "outputs": [],
   "source": [
    "velocity_calculator={\n",
    "    \"cognitive\": lambda age,life_expectancy:2*(1-age/life_expectancy),\n",
    "    \"group\" : lambda age ,life_expectancy:2*(age/life_expectancy),\n",
    "    \"inertia\" : lambda age , life_expectancy:(120/120)\n",
    "}\n",
    "vezbe_velocity_calc={\n",
    "    \"cognitive\":lambda age,life_expectancy:0.7 ,\n",
    "    \"group\":lambda age, life_expectancy:1.0 ,\n",
    "    \"inertia\":lambda age ,life_expectancy:1.0\n",
    "    \n",
    "}\n",
    "maxtime=10**(-1)\n",
    "def psogahybrid(pop_size, num_dimensions, allowed_time,velocity_calc,fitness_calc,life_expectancy=120,tournament_size=4):\n",
    "    bounds = [(78, 102),(33,45),(27,45),(27,45),(27,45)]\n",
    "    \n",
    "    population = [Individual(bounds=bounds,\n",
    "                      calc_fitness=fitness_calc,life_expectancy=life_expectancy,velocity_calc=velocity_calc,age=i%life_expectancy\n",
    "                      ) for i in range(pop_size)]\n",
    "    #print(Individual.global_best_fitness)\n",
    "    \n",
    "    \n",
    "    start=time.time()\n",
    "    while True:\n",
    "        #sorted(population,key=lambda x:-x.fitness)\n",
    "        \n",
    "        for i in range(len(population)):\n",
    "               \n",
    "            population[i].update_velocity()\n",
    "            population[i].update_position()\n",
    "            population[i].age+=1\n",
    "            population[i].update_fitness()\n",
    "            \n",
    "            if population[i].age==life_expectancy:\n",
    "                     \n",
    "                toPairWith=selection(population,tournament_size)\n",
    "                child1=Individual(bounds=bounds,calc_fitness=fitness_calc,velocity_calc=velocity_calc,life_expectancy=life_expectancy)\n",
    "                child2=Individual(bounds=bounds,calc_fitness=fitness_calc,velocity_calc=velocity_calc,life_expectancy=life_expectancy)\n",
    "                crossover(population[i],toPairWith,child1,child2)\n",
    "             \n",
    "                mutation(child1)\n",
    "                mutation(child2)\n",
    "                population[i]=max([child1,child2],key=lambda x:x.fitness)\n",
    "                population[i].update_fitness()\n",
    "        if time.time()-start>allowed_time:\n",
    "                tmp=Individual.global_best_position\n",
    "                #if not is_feasable(Individual.global_best_position):\n",
    "                 \n",
    "                #print(\"not feasible\")\n",
    "                Individual.global_best_fitness=None\n",
    "                Individual.global_best_position=None\n",
    "                \n",
    "                return tmp\n",
    "       \n",
    "\n",
    "   "
   ]
  },
  {
   "cell_type": "code",
   "execution_count": 13,
   "id": "93c9e4f1-ee68-4a48-95f3-704e4d5a6705",
   "metadata": {
    "scrolled": true
   },
   "outputs": [
    {
     "data": {
      "text/plain": [
       "array([84.69524341, 33.7895484 , 30.49067006, 40.47343616, 36.07587421])"
      ]
     },
     "execution_count": 13,
     "metadata": {},
     "output_type": "execute_result"
    }
   ],
   "source": [
    "#nasa hibridna optimizacija\n",
    "psogahybrid(pop_size=50, num_dimensions=5, allowed_time=0.1,velocity_calc=vezbe_velocity_calc,life_expectancy=10,fitness_calc=himmelblau,tournament_size=10)\n"
   ]
  },
  {
   "cell_type": "code",
   "execution_count": 14,
   "id": "30172fc8-6e91-4306-9e60-890b7522fcb2",
   "metadata": {},
   "outputs": [],
   "source": [
    "#goal driven generational learning"
   ]
  },
  {
   "cell_type": "markdown",
   "id": "27389dba-2427-4375-9abe-1028021b4a5f",
   "metadata": {},
   "source": [
    "Ideja algoritma:\n",
    "    Imamo populaciju jedinki koje imaju svoju poziciju u prostoru i svoje usmerenje\n",
    "    Imaju age-broj iteracija koliko je jedinka ziva.\n",
    "    Imaju life_expectancy-zivotni vek u broju iteracija\n",
    "    Pusticemo svaku jedinku da se krece kroz prostor nalik na pso dok ne bude imala \n",
    "    life expectancy godina.\n",
    "    Razlika u odnosu na pso je sto dinamicki racunamo koeficijente prema broju godina i\n",
    "    zivotnog ocekivanja.\n",
    "    Kada jedinka dostigne life expectancy godina koristimo tournament selection da bi odabrali jedinku\n",
    "    sa kojom cemo da je ukrstimo kako bi je zamenila u populaciji.(od dva deteta biramo najbolje)\n",
    "    to radimo dok ne prodjemo maximalni broj iteracija.\n",
    "    Mozda bi mutacija dovela do prevelikog diverziteta.\n",
    "    Mozda bi neki elitism doprineo.\n",
    "    "
   ]
  },
  {
   "cell_type": "code",
   "execution_count": 15,
   "id": "d1b67bc1-bd28-44ed-b4e6-4fe5908d156b",
   "metadata": {},
   "outputs": [],
   "source": [
    "times=[10**(-3),10**(-2),10**(-1),1]\n",
    "num_trys=1000"
   ]
  },
  {
   "cell_type": "code",
   "execution_count": 16,
   "id": "7423271d-3d06-48e9-aee1-01970c842468",
   "metadata": {},
   "outputs": [
    {
     "name": "stdout",
     "output_type": "stream",
     "text": [
      "Function : Himbelblau\n",
      "Swarm size: 50\n",
      "Num dimensions: 5\n",
      "c_i: 0.7\n",
      "c_p: 1.0\n",
      "c_g: 1.0\n",
      "ga_min_num : 10\n",
      "ga_max_num :50\n",
      "ga_min_ps : 50\n",
      "ga_max_ps : 100\n",
      "ga_min_iter : 20\n",
      "ga_max_iter : 100\n",
      "y : 2\n",
      "b :3\n",
      "    Time : 0.001\n",
      "    NumHits : 1000/1000\n",
      "    Average minimum: -29031.514410706855\n",
      "\n",
      "\n"
     ]
    },
    {
     "ename": "KeyboardInterrupt",
     "evalue": "",
     "output_type": "error",
     "traceback": [
      "\u001b[0;31m---------------------------------------------------------------------------\u001b[0m",
      "\u001b[0;31mKeyboardInterrupt\u001b[0m                         Traceback (most recent call last)",
      "Cell \u001b[0;32mIn[16], line 21\u001b[0m\n\u001b[1;32m     19\u001b[0m counter\u001b[38;5;241m=\u001b[39m\u001b[38;5;241m0\u001b[39m\n\u001b[1;32m     20\u001b[0m \u001b[38;5;28;01mfor\u001b[39;00m _ \u001b[38;5;129;01min\u001b[39;00m \u001b[38;5;28mrange\u001b[39m(num_trys):\n\u001b[0;32m---> 21\u001b[0m     position\u001b[38;5;241m=\u001b[39m\u001b[43mpsogahybrid\u001b[49m\u001b[43m(\u001b[49m\u001b[43mpop_size\u001b[49m\u001b[38;5;241;43m=\u001b[39;49m\u001b[38;5;241;43m50\u001b[39;49m\u001b[43m,\u001b[49m\u001b[43m \u001b[49m\u001b[43mnum_dimensions\u001b[49m\u001b[38;5;241;43m=\u001b[39;49m\u001b[38;5;241;43m5\u001b[39;49m\u001b[43m,\u001b[49m\u001b[43m \u001b[49m\u001b[43mallowed_time\u001b[49m\u001b[38;5;241;43m=\u001b[39;49m\u001b[43mallowed_time\u001b[49m\u001b[43m,\u001b[49m\u001b[43mvelocity_calc\u001b[49m\u001b[38;5;241;43m=\u001b[39;49m\u001b[43mvezbe_velocity_calc\u001b[49m\u001b[43m,\u001b[49m\u001b[43mlife_expectancy\u001b[49m\u001b[38;5;241;43m=\u001b[39;49m\u001b[38;5;241;43m30\u001b[39;49m\u001b[43m,\u001b[49m\u001b[43mfitness_calc\u001b[49m\u001b[38;5;241;43m=\u001b[39;49m\u001b[43mhimmelblau\u001b[49m\u001b[43m,\u001b[49m\u001b[43mtournament_size\u001b[49m\u001b[38;5;241;43m=\u001b[39;49m\u001b[38;5;241;43m10\u001b[39;49m\u001b[43m)\u001b[49m\n\u001b[1;32m     23\u001b[0m     \u001b[38;5;28;01mif\u001b[39;00m is_feasable(position):\n\u001b[1;32m     24\u001b[0m         suma\u001b[38;5;241m+\u001b[39m\u001b[38;5;241m=\u001b[39mactual_himmelblau(position)\n",
      "Cell \u001b[0;32mIn[12], line 29\u001b[0m, in \u001b[0;36mpsogahybrid\u001b[0;34m(pop_size, num_dimensions, allowed_time, velocity_calc, fitness_calc, life_expectancy, tournament_size)\u001b[0m\n\u001b[1;32m     26\u001b[0m \u001b[38;5;28;01mfor\u001b[39;00m i \u001b[38;5;129;01min\u001b[39;00m \u001b[38;5;28mrange\u001b[39m(\u001b[38;5;28mlen\u001b[39m(population)):\n\u001b[1;32m     28\u001b[0m     population[i]\u001b[38;5;241m.\u001b[39mupdate_velocity()\n\u001b[0;32m---> 29\u001b[0m     \u001b[43mpopulation\u001b[49m\u001b[43m[\u001b[49m\u001b[43mi\u001b[49m\u001b[43m]\u001b[49m\u001b[38;5;241;43m.\u001b[39;49m\u001b[43mupdate_position\u001b[49m\u001b[43m(\u001b[49m\u001b[43m)\u001b[49m\n\u001b[1;32m     30\u001b[0m     population[i]\u001b[38;5;241m.\u001b[39mage\u001b[38;5;241m+\u001b[39m\u001b[38;5;241m=\u001b[39m\u001b[38;5;241m1\u001b[39m\n\u001b[1;32m     31\u001b[0m     population[i]\u001b[38;5;241m.\u001b[39mupdate_fitness()\n",
      "Cell \u001b[0;32mIn[8], line 32\u001b[0m, in \u001b[0;36mIndividual.update_position\u001b[0;34m(self)\u001b[0m\n\u001b[1;32m     28\u001b[0m \u001b[38;5;28;01mdef\u001b[39;00m \u001b[38;5;21mupdate_position\u001b[39m(\u001b[38;5;28mself\u001b[39m):\n\u001b[1;32m     29\u001b[0m     \u001b[38;5;28mself\u001b[39m\u001b[38;5;241m.\u001b[39mposition \u001b[38;5;241m=\u001b[39m np\u001b[38;5;241m.\u001b[39mclip(\u001b[38;5;28mself\u001b[39m\u001b[38;5;241m.\u001b[39mposition \u001b[38;5;241m+\u001b[39m \u001b[38;5;28mself\u001b[39m\u001b[38;5;241m.\u001b[39mvelocity,\n\u001b[1;32m     30\u001b[0m                             \u001b[38;5;28mself\u001b[39m\u001b[38;5;241m.\u001b[39mlower_bounds,\n\u001b[1;32m     31\u001b[0m                             \u001b[38;5;28mself\u001b[39m\u001b[38;5;241m.\u001b[39mupper_bounds)\n\u001b[0;32m---> 32\u001b[0m     \u001b[38;5;28;43mself\u001b[39;49m\u001b[38;5;241;43m.\u001b[39;49m\u001b[43mupdate_fitness\u001b[49m\u001b[43m(\u001b[49m\u001b[43m)\u001b[49m\n",
      "Cell \u001b[0;32mIn[8], line 53\u001b[0m, in \u001b[0;36mIndividual.update_fitness\u001b[0;34m(self)\u001b[0m\n\u001b[1;32m     51\u001b[0m \u001b[38;5;28;01mdef\u001b[39;00m \u001b[38;5;21mupdate_fitness\u001b[39m(\u001b[38;5;28mself\u001b[39m):\n\u001b[1;32m     52\u001b[0m     \u001b[38;5;28mself\u001b[39m\u001b[38;5;241m.\u001b[39mfitness\u001b[38;5;241m=\u001b[39m\u001b[38;5;28mself\u001b[39m\u001b[38;5;241m.\u001b[39mcalc_fitness(\u001b[38;5;28mself\u001b[39m\u001b[38;5;241m.\u001b[39mposition)\n\u001b[0;32m---> 53\u001b[0m     \u001b[38;5;28;01mif\u001b[39;00m \u001b[38;5;28mself\u001b[39m\u001b[38;5;241m.\u001b[39mpersonal_best_fitness \u001b[38;5;129;01mis\u001b[39;00m \u001b[38;5;28;01mNone\u001b[39;00m \u001b[38;5;129;01mor\u001b[39;00m \u001b[38;5;28mself\u001b[39m\u001b[38;5;241m.\u001b[39mfitness\u001b[38;5;241m>\u001b[39m\u001b[38;5;28mself\u001b[39m\u001b[38;5;241m.\u001b[39mpersonal_best_fitness:\n\u001b[1;32m     54\u001b[0m         \u001b[38;5;28mself\u001b[39m\u001b[38;5;241m.\u001b[39mpersonal_best_fitness\u001b[38;5;241m=\u001b[39m\u001b[38;5;28mself\u001b[39m\u001b[38;5;241m.\u001b[39mfitness\n\u001b[1;32m     55\u001b[0m         \u001b[38;5;28mself\u001b[39m\u001b[38;5;241m.\u001b[39mpersonal_best_position\u001b[38;5;241m=\u001b[39m\u001b[38;5;28mself\u001b[39m\u001b[38;5;241m.\u001b[39mposition\u001b[38;5;241m.\u001b[39mcopy()\n",
      "\u001b[0;31mKeyboardInterrupt\u001b[0m: "
     ]
    }
   ],
   "source": [
    "times=[10**(-3),10**(-2),10**(-1),1]\n",
    "num_trys=1000\n",
    "print(\"Function : Himbelblau\")\n",
    "print(\"Swarm size: \" + \"50\")\n",
    "print(\"Num dimensions: \" + \"5\")\n",
    "print(\"c_i: \"+\"0.7\")\n",
    "print(\"c_p: \" + \"1.0\")\n",
    "print(\"c_g: \" + \"1.0\")\n",
    "print(\"ga_min_num : 10\")\n",
    "print(\"ga_max_num :50\")\n",
    "print(\"ga_min_ps : 50\")\n",
    "print(\"ga_max_ps : 100\")\n",
    "print(\"ga_min_iter : 20\")\n",
    "print(\"ga_max_iter : 100\")\n",
    "print(\"y : 2\")\n",
    "print(\"b :3\")\n",
    "for allowed_time in times:\n",
    "    suma=0\n",
    "    counter=0\n",
    "    for _ in range(num_trys):\n",
    "        position=psogahybrid(pop_size=50, num_dimensions=5, allowed_time=allowed_time,velocity_calc=vezbe_velocity_calc,life_expectancy=30,fitness_calc=himmelblau,tournament_size=10)\n",
    "        \n",
    "        if is_feasable(position):\n",
    "            suma+=actual_himmelblau(position)\n",
    "            counter+=1\n",
    "    suma=-suma\n",
    "    suma/=counter\n",
    "    \n",
    "    print(\"    Time : \" + str(allowed_time))\n",
    "    print(\"    NumHits : \"+ str(counter) + \"/\" + str(num_trys))\n",
    "    print(\"    Average minimum: \" +str(suma))\n",
    "    print(\"\\n\")"
   ]
  },
  {
   "cell_type": "code",
   "execution_count": 19,
   "id": "76ebf0ef-4290-44a6-9eeb-af15de1df468",
   "metadata": {},
   "outputs": [
    {
     "name": "stdout",
     "output_type": "stream",
     "text": [
      "    Time : 50\n",
      "    NumHits : 50/50\n",
      "    Average minimum: -30427.684853435578\n",
      "\n",
      "\n"
     ]
    }
   ],
   "source": [
    "suma=0\n",
    "counter=0\n",
    "for _ in range(50):\n",
    "    position=psogahybrid(pop_size=50, num_dimensions=5, allowed_time=50,velocity_calc=vezbe_velocity_calc,life_expectancy=20,fitness_calc=himmelblau,tournament_size=10)\n",
    "        \n",
    "    if is_feasable(position):\n",
    "        suma+=actual_himmelblau(position)\n",
    "        counter+=1\n",
    "suma=-suma\n",
    "suma/=counter\n",
    "    \n",
    "print(\"    Time : \" + str(50))\n",
    "print(\"    NumHits : \"+ str(counter) + \"/\" + str(50))\n",
    "print(\"    Average minimum: \" +str(suma))\n",
    "print(\"\\n\")"
   ]
  }
 ],
 "metadata": {
  "kernelspec": {
   "display_name": "Python 3 (ipykernel)",
   "language": "python",
   "name": "python3"
  },
  "language_info": {
   "codemirror_mode": {
    "name": "ipython",
    "version": 3
   },
   "file_extension": ".py",
   "mimetype": "text/x-python",
   "name": "python",
   "nbconvert_exporter": "python",
   "pygments_lexer": "ipython3",
   "version": "3.10.12"
  }
 },
 "nbformat": 4,
 "nbformat_minor": 5
}
