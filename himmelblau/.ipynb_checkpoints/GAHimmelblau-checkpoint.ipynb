{
 "cells": [
  {
   "cell_type": "code",
   "execution_count": 1,
   "id": "dc2da9b5-5c06-4ff9-8046-7af83e43bcee",
   "metadata": {},
   "outputs": [],
   "source": [
    "import numpy as np\n",
    "import random\n",
    "import pandas as pd \n",
    "from copy import deepcopy\n",
    "import math\n",
    "import time\n",
    "from math import ceil,floor"
   ]
  },
  {
   "cell_type": "code",
   "execution_count": 2,
   "id": "8612840f-dc60-4fe0-a8c9-bccb4cdad90f",
   "metadata": {},
   "outputs": [],
   "source": [
    "def g1(x):\n",
    "    x1=x[0]\n",
    "    x2=x[1]\n",
    "    x3=x[2]\n",
    "    x4=x[3]\n",
    "    x5=x[4]\n",
    "    return 85.334407 + 0.0056858*x2*x5 + 0.0006262*x1*x4 - 0.0022053*x3*x5"
   ]
  },
  {
   "cell_type": "code",
   "execution_count": 3,
   "id": "1cab9b3b-7e89-4223-9d90-62f92825da55",
   "metadata": {},
   "outputs": [],
   "source": [
    "def g2(x):\n",
    "    x1=x[0]\n",
    "    x2=x[1]\n",
    "    x3=x[2]\n",
    "    x4=x[3]\n",
    "    x5=x[4]\n",
    "    \n",
    "    return 80.51249 + 0.0071317*x2*x5 + 0.0029955*x1*x2 - 0.0021813*x3**2"
   ]
  },
  {
   "cell_type": "code",
   "execution_count": 4,
   "id": "fad310ff-a27d-4a40-91ed-fab8fb6048d6",
   "metadata": {},
   "outputs": [],
   "source": [
    "def g3(x):\n",
    "    x1=x[0]\n",
    "    x2=x[1]\n",
    "    x3=x[2]\n",
    "    x4=x[3]\n",
    "    x5=x[4]\n",
    "\n",
    "    return 9.300961 + 0.0047026*x3*x5 + 0.0012547*x1*x3 + 0.0019085*x3*x4"
   ]
  },
  {
   "cell_type": "code",
   "execution_count": 16,
   "id": "0d5c05b2-06b7-4a4d-92a1-a0da403fed9f",
   "metadata": {},
   "outputs": [],
   "source": [
    "def is_feasable(x):\n",
    "    x1=x[0]\n",
    "    x2=x[1]\n",
    "    x3=x[2]\n",
    "    x4=x[3]\n",
    "    x5=x[4]\n",
    "    if x1<78  or x1>102:\n",
    "        print(\"x1\")\n",
    "        return False\n",
    "    if x2<33 or x2>45:\n",
    "        print(\"x2\")\n",
    "        return False\n",
    "        \n",
    "    if x3<27 or x3>45:\n",
    "        print(\"x3\")\n",
    "        return False\n",
    "    if x4<27 or x4>45:\n",
    "        print(\"x4\")\n",
    "        return False\n",
    "    if x5<27 or x5>45:\n",
    "        print(\"x5\")\n",
    "        return False\n",
    "\n",
    "    g1res=g1(x)\n",
    "    g2res=g2(x)\n",
    "    g3res=g3(x)\n",
    "\n",
    "    if g1res<0 or g1res>92:\n",
    "        #print(\"g1\")\n",
    "        return False\n",
    "    if g2res<90 or g2res>110:\n",
    "        #print(\"g2\")\n",
    "        return False\n",
    "    if g3res<20 or g3res>25:\n",
    "        #print(\"g3\")\n",
    "        return False\n",
    "    \n",
    "    return True\n",
    "    "
   ]
  },
  {
   "cell_type": "code",
   "execution_count": 6,
   "id": "e507d64d-b666-43be-a311-ce611512f27c",
   "metadata": {},
   "outputs": [],
   "source": [
    "def himmelblau(x):\n",
    "    x3=x[2]\n",
    "    x1=x[0]\n",
    "    x5=x[4]\n",
    "    toReturn= -(5.3578547*x3**2 + 0.8356891*x1*x5 + 37.293239*x1 - 40792.141)\n",
    "    g1res=g1(x)\n",
    "    if g1res>92:\n",
    "        toReturn+=-((g1res)-92)*10000\n",
    "    elif g1res<0:\n",
    "        toReturn+=(g1res)*10000\n",
    "    \n",
    "    g2res=g2(x)\n",
    "    if g2res>110:\n",
    "        toReturn-=((g2res)-110)*10000\n",
    "    elif g2res<90:\n",
    "        toReturn-=(90-(g2res))*10000\n",
    "    \n",
    "    g3res=g3(x)\n",
    "    if g3res>25:\n",
    "        toReturn-=((g3res)-25)*10000\n",
    "    elif g3res<20:\n",
    "        toReturn-=(20-(g3res))*10000\n",
    "    return toReturn"
   ]
  },
  {
   "cell_type": "code",
   "execution_count": 7,
   "id": "b355de13-7fc6-4b85-b6f5-29c72730f924",
   "metadata": {},
   "outputs": [],
   "source": [
    "def actual_himmelblau(x):\n",
    "    x3=x[2]\n",
    "    x1=x[0]\n",
    "    x5=x[4]\n",
    "    return -(5.3578547*x3**2 + 0.8356891*x1*x5 + 37.293239*x1 - 40792.141)"
   ]
  },
  {
   "cell_type": "code",
   "execution_count": 8,
   "id": "53256666-7e93-4e2e-830d-56e4878d4219",
   "metadata": {},
   "outputs": [],
   "source": [
    "class Individual:\n",
    "   \n",
    "    def __init__(self,bounds,calc_fitness):\n",
    "        self.lower_bounds = np.array([bound[0] for bound in bounds])\n",
    "        self.upper_bounds = np.array([bound[1] for bound in bounds])        \n",
    "        \n",
    "        self.position = np.random.uniform(self.lower_bounds, self.upper_bounds, len(bounds))\n",
    "        \n",
    "        self.calc_fitness=calc_fitness\n",
    "        self.fitness=calc_fitness(self.position)\n",
    "        \n",
    "    def clip(self):\n",
    "        self.position = np.clip(self.position ,\n",
    "                                self.lower_bounds,\n",
    "                                self.upper_bounds)\n",
    "        self.update_fitness()\n",
    "    def update_fitness(self):\n",
    "        self.fitness=self.calc_fitness(self.position)\n",
    "    def mutate(self):\n",
    "        for i in range(len(self.position)):\n",
    "            self.position+=(-1)**(random.randrange(1,3))*np.random.rand(5)\n",
    "        self.clip()"
   ]
  },
  {
   "cell_type": "code",
   "execution_count": 9,
   "id": "1006b09c-0202-4e71-ab0e-3dd91b990dae",
   "metadata": {},
   "outputs": [],
   "source": [
    "def selection(population:Individual) ->Individual:\n",
    "    #roulete\n",
    "    ranks= list.reverse(list(range(1,len(population)+1)))\n",
    "    return random.choices(population=list(zip(range(len(population)),population)),weights=ranks,k=1)[0]"
   ]
  },
  {
   "cell_type": "code",
   "execution_count": 10,
   "id": "da952fc3-1e7b-4c52-b699-2ec38fb5d139",
   "metadata": {},
   "outputs": [],
   "source": [
    "def crossover(p1:Individual,p2:Individual,c1:Individual,c2:Individual):\n",
    "    coef=random.random()\n",
    "    c1.position=coef*p1.position + (1-coef)*p2.position\n",
    "\n",
    "    c2.position=coef*p2.position +(1-coef)*p1.position"
   ]
  },
  {
   "cell_type": "code",
   "execution_count": 11,
   "id": "b7991df2-df2b-4b41-8ddc-ee3e2eeaddb2",
   "metadata": {},
   "outputs": [],
   "source": [
    "def mutation(ind:Individual,mut_prob=0.01):\n",
    "    if random.random()<mut_prob:\n",
    "        ind.mutate()\n",
    "    pass"
   ]
  },
  {
   "cell_type": "code",
   "execution_count": 12,
   "id": "72b9e977-7e61-48f1-b3bf-b3dfd88533ee",
   "metadata": {},
   "outputs": [],
   "source": [
    "def GA(pop_size,allowed_time,elitism_size=6):\n",
    "    bounds = [(78, 102),(33,45),(27,45),(27,45),(27,45)]\n",
    "    population=[Individual(bounds,himmelblau) for _ in range(pop_size)]\n",
    "    \n",
    "    new_population=population[:]\n",
    "    start=time.time()\n",
    "    while True:\n",
    "        sorted(population,key=lambda x:x.fitness,reverse=True)\n",
    "        for i in range(elitism_size,pop_size,2):\n",
    "            p1=selection(population)[1]\n",
    "            p2=selection(population)[1]\n",
    "            \n",
    "            crossover(p1,p2,new_population[i],new_population[i+1])\n",
    "            mutation(new_population[i])\n",
    "            mutation(new_population[i+1])\n",
    "            new_population[i].update_fitness()\n",
    "            new_population[i+1].update_fitness()\n",
    "        population=new_population[:]\n",
    "        if time.time()-start>allowed_time:\n",
    "            tmp=max(population,key=lambda x:x.fitness)\n",
    "            \n",
    "            return tmp\n",
    "    "
   ]
  },
  {
   "cell_type": "code",
   "execution_count": 20,
   "id": "5e1857be-f2ab-4e99-8ef7-d25d94527748",
   "metadata": {},
   "outputs": [
    {
     "name": "stdout",
     "output_type": "stream",
     "text": [
      "Function : Himmelblau\n",
      "Population size: 50\n",
      "Num dimensions: 5\n",
      "    Time : 0.001\n",
      "    NumHits : 706/1000\n",
      "    Average minimum: -28260.459511006593\n",
      "\n",
      "\n",
      "    Time : 0.01\n",
      "    NumHits : 730/1000\n",
      "    Average minimum: -28181.01238772747\n",
      "\n",
      "\n",
      "    Time : 0.1\n",
      "    NumHits : 717/1000\n",
      "    Average minimum: -28181.475586473614\n",
      "\n",
      "\n",
      "    Time : 1\n",
      "    NumHits : 736/1000\n",
      "    Average minimum: -28240.24716063069\n",
      "\n",
      "\n"
     ]
    }
   ],
   "source": [
    "#x=GA(50,0.1)\n",
    "#print(actual_himmelblau(x.position))\n",
    "#print(is_feasable(x.position))\n",
    "\n",
    "times=[10**(-3),10**(-2),10**(-1),1]\n",
    "num_trys=1000\n",
    "print(\"Function : Himmelblau\")\n",
    "print(\"Population size: \" + \"50\")\n",
    "print(\"Num dimensions: \" + \"5\")\n",
    "\n",
    "\n",
    "for allowed_time in times:\n",
    "    suma=0\n",
    "    counter=0\n",
    "    for _ in range(num_trys):\n",
    "        ind=GA(50,allowed_time)\n",
    "        if is_feasable(ind.position):\n",
    "            suma+=actual_himmelblau(ind.position)\n",
    "            counter+=1\n",
    "        \n",
    "    suma=-suma\n",
    "    suma/=counter\n",
    "    \n",
    "    print(\"    Time : \" + str(allowed_time))\n",
    "    print(\"    NumHits : \" + str(counter) + \"/\" + str(num_trys))\n",
    "    print(\"    Average minimum: \" +str(suma))\n",
    "    print(\"\\n\")"
   ]
  },
  {
   "cell_type": "code",
   "execution_count": null,
   "id": "df12a5cc-9999-4f2e-a3bb-da0593732c66",
   "metadata": {},
   "outputs": [],
   "source": []
  }
 ],
 "metadata": {
  "kernelspec": {
   "display_name": "Python 3 (ipykernel)",
   "language": "python",
   "name": "python3"
  },
  "language_info": {
   "codemirror_mode": {
    "name": "ipython",
    "version": 3
   },
   "file_extension": ".py",
   "mimetype": "text/x-python",
   "name": "python",
   "nbconvert_exporter": "python",
   "pygments_lexer": "ipython3",
   "version": "3.10.12"
  }
 },
 "nbformat": 4,
 "nbformat_minor": 5
}
