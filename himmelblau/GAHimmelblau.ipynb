{
 "cells": [
  {
   "cell_type": "code",
   "execution_count": 11,
   "id": "dc2da9b5-5c06-4ff9-8046-7af83e43bcee",
   "metadata": {},
   "outputs": [],
   "source": [
    "import numpy as np\n",
    "import random\n",
    "import pandas as pd \n",
    "from copy import deepcopy\n",
    "import math\n",
    "import time\n",
    "from math import ceil,floor\n",
    "from himmelblau import *"
   ]
  },
  {
   "cell_type": "code",
   "execution_count": 12,
   "id": "53256666-7e93-4e2e-830d-56e4878d4219",
   "metadata": {},
   "outputs": [],
   "source": [
    "class Individual:\n",
    "   \n",
    "    def __init__(self,bounds,calc_fitness):\n",
    "        self.lower_bounds = np.array([bound[0] for bound in bounds])\n",
    "        self.upper_bounds = np.array([bound[1] for bound in bounds])        \n",
    "        \n",
    "        self.position = np.random.uniform(self.lower_bounds, self.upper_bounds, len(bounds))\n",
    "        \n",
    "        self.calc_fitness=calc_fitness\n",
    "        self.fitness=calc_fitness(self.position)\n",
    "        \n",
    "    def clip(self):\n",
    "        self.position = np.clip(self.position ,\n",
    "                                self.lower_bounds,\n",
    "                                self.upper_bounds)\n",
    "        self.update_fitness()\n",
    "    def update_fitness(self):\n",
    "        self.fitness=self.calc_fitness(self.position)\n",
    "    def mutate(self):\n",
    "        for i in range(len(self.position)):\n",
    "            self.position+=(-1)**(random.randrange(1,3))*np.random.rand(5)\n",
    "        self.clip()"
   ]
  },
  {
   "cell_type": "code",
   "execution_count": 13,
   "id": "1006b09c-0202-4e71-ab0e-3dd91b990dae",
   "metadata": {},
   "outputs": [],
   "source": [
    "def selection(population:Individual) ->Individual:\n",
    "    #roulete\n",
    "    ranks= list.reverse(list(range(1,len(population)+1)))\n",
    "    return random.choices(population=list(zip(range(len(population)),population)),weights=ranks,k=1)[0]"
   ]
  },
  {
   "cell_type": "code",
   "execution_count": 14,
   "id": "da952fc3-1e7b-4c52-b699-2ec38fb5d139",
   "metadata": {},
   "outputs": [],
   "source": [
    "def crossover(p1:Individual,p2:Individual,c1:Individual,c2:Individual):\n",
    "    coef=random.random()\n",
    "    c1.position=coef*p1.position + (1-coef)*p2.position\n",
    "\n",
    "    c2.position=coef*p2.position +(1-coef)*p1.position"
   ]
  },
  {
   "cell_type": "code",
   "execution_count": 15,
   "id": "b7991df2-df2b-4b41-8ddc-ee3e2eeaddb2",
   "metadata": {},
   "outputs": [],
   "source": [
    "def mutation(ind:Individual,mut_prob=0.01):\n",
    "    if random.random()<mut_prob:\n",
    "        ind.mutate()\n",
    "    pass"
   ]
  },
  {
   "cell_type": "code",
   "execution_count": 16,
   "id": "72b9e977-7e61-48f1-b3bf-b3dfd88533ee",
   "metadata": {},
   "outputs": [],
   "source": [
    "def GA(pop_size,allowed_time,elitism_size=6):\n",
    "    bounds = [(78, 102),(33,45),(27,45),(27,45),(27,45)]\n",
    "    population=[Individual(bounds,himmelblau) for _ in range(pop_size)]\n",
    "    \n",
    "    new_population=population[:]\n",
    "    start=time.time()\n",
    "    while True:\n",
    "        sorted(population,key=lambda x:x.fitness,reverse=True)\n",
    "        for i in range(elitism_size,pop_size,2):\n",
    "            p1=selection(population)[1]\n",
    "            p2=selection(population)[1]\n",
    "            \n",
    "            crossover(p1,p2,new_population[i],new_population[i+1])\n",
    "            mutation(new_population[i])\n",
    "            mutation(new_population[i+1])\n",
    "            new_population[i].update_fitness()\n",
    "            new_population[i+1].update_fitness()\n",
    "        population=new_population[:]\n",
    "        if time.time()-start>allowed_time:\n",
    "            tmp=max(population,key=lambda x:x.fitness)\n",
    "            \n",
    "            return tmp\n",
    "    "
   ]
  },
  {
   "cell_type": "code",
   "execution_count": 17,
   "id": "5e1857be-f2ab-4e99-8ef7-d25d94527748",
   "metadata": {},
   "outputs": [
    {
     "name": "stdout",
     "output_type": "stream",
     "text": [
      "Function : Himmelblau\n",
      "Population size: 50\n",
      "Num dimensions: 5\n",
      "    Time : 0.001\n",
      "    NumHits : 731/1000\n",
      "    Average minimum: -28316.188676600745\n",
      "\n",
      "\n"
     ]
    },
    {
     "ename": "KeyboardInterrupt",
     "evalue": "",
     "output_type": "error",
     "traceback": [
      "\u001b[0;31m---------------------------------------------------------------------------\u001b[0m",
      "\u001b[0;31mKeyboardInterrupt\u001b[0m                         Traceback (most recent call last)",
      "Cell \u001b[0;32mIn[17], line 16\u001b[0m\n\u001b[1;32m     14\u001b[0m counter\u001b[38;5;241m=\u001b[39m\u001b[38;5;241m0\u001b[39m\n\u001b[1;32m     15\u001b[0m \u001b[38;5;28;01mfor\u001b[39;00m _ \u001b[38;5;129;01min\u001b[39;00m \u001b[38;5;28mrange\u001b[39m(num_trys):\n\u001b[0;32m---> 16\u001b[0m     ind\u001b[38;5;241m=\u001b[39m\u001b[43mGA\u001b[49m\u001b[43m(\u001b[49m\u001b[38;5;241;43m50\u001b[39;49m\u001b[43m,\u001b[49m\u001b[43mallowed_time\u001b[49m\u001b[43m)\u001b[49m\n\u001b[1;32m     17\u001b[0m     \u001b[38;5;28;01mif\u001b[39;00m is_feasable(ind\u001b[38;5;241m.\u001b[39mposition):\n\u001b[1;32m     18\u001b[0m         suma\u001b[38;5;241m+\u001b[39m\u001b[38;5;241m=\u001b[39mactual_himmelblau(ind\u001b[38;5;241m.\u001b[39mposition)\n",
      "Cell \u001b[0;32mIn[16], line 11\u001b[0m, in \u001b[0;36mGA\u001b[0;34m(pop_size, allowed_time, elitism_size)\u001b[0m\n\u001b[1;32m      9\u001b[0m \u001b[38;5;28;01mfor\u001b[39;00m i \u001b[38;5;129;01min\u001b[39;00m \u001b[38;5;28mrange\u001b[39m(elitism_size,pop_size,\u001b[38;5;241m2\u001b[39m):\n\u001b[1;32m     10\u001b[0m     p1\u001b[38;5;241m=\u001b[39mselection(population)[\u001b[38;5;241m1\u001b[39m]\n\u001b[0;32m---> 11\u001b[0m     p2\u001b[38;5;241m=\u001b[39m\u001b[43mselection\u001b[49m\u001b[43m(\u001b[49m\u001b[43mpopulation\u001b[49m\u001b[43m)\u001b[49m[\u001b[38;5;241m1\u001b[39m]\n\u001b[1;32m     13\u001b[0m     crossover(p1,p2,new_population[i],new_population[i\u001b[38;5;241m+\u001b[39m\u001b[38;5;241m1\u001b[39m])\n\u001b[1;32m     14\u001b[0m     mutation(new_population[i])\n",
      "Cell \u001b[0;32mIn[13], line 4\u001b[0m, in \u001b[0;36mselection\u001b[0;34m(population)\u001b[0m\n\u001b[1;32m      1\u001b[0m \u001b[38;5;28;01mdef\u001b[39;00m \u001b[38;5;21mselection\u001b[39m(population:Individual) \u001b[38;5;241m-\u001b[39m\u001b[38;5;241m>\u001b[39mIndividual:\n\u001b[1;32m      2\u001b[0m     \u001b[38;5;66;03m#roulete\u001b[39;00m\n\u001b[1;32m      3\u001b[0m     ranks\u001b[38;5;241m=\u001b[39m \u001b[38;5;28mlist\u001b[39m\u001b[38;5;241m.\u001b[39mreverse(\u001b[38;5;28mlist\u001b[39m(\u001b[38;5;28mrange\u001b[39m(\u001b[38;5;241m1\u001b[39m,\u001b[38;5;28mlen\u001b[39m(population)\u001b[38;5;241m+\u001b[39m\u001b[38;5;241m1\u001b[39m)))\n\u001b[0;32m----> 4\u001b[0m     \u001b[38;5;28;01mreturn\u001b[39;00m \u001b[43mrandom\u001b[49m\u001b[38;5;241;43m.\u001b[39;49m\u001b[43mchoices\u001b[49m\u001b[43m(\u001b[49m\u001b[43mpopulation\u001b[49m\u001b[38;5;241;43m=\u001b[39;49m\u001b[38;5;28;43mlist\u001b[39;49m\u001b[43m(\u001b[49m\u001b[38;5;28;43mzip\u001b[39;49m\u001b[43m(\u001b[49m\u001b[38;5;28;43mrange\u001b[39;49m\u001b[43m(\u001b[49m\u001b[38;5;28;43mlen\u001b[39;49m\u001b[43m(\u001b[49m\u001b[43mpopulation\u001b[49m\u001b[43m)\u001b[49m\u001b[43m)\u001b[49m\u001b[43m,\u001b[49m\u001b[43mpopulation\u001b[49m\u001b[43m)\u001b[49m\u001b[43m)\u001b[49m\u001b[43m,\u001b[49m\u001b[43mweights\u001b[49m\u001b[38;5;241;43m=\u001b[39;49m\u001b[43mranks\u001b[49m\u001b[43m,\u001b[49m\u001b[43mk\u001b[49m\u001b[38;5;241;43m=\u001b[39;49m\u001b[38;5;241;43m1\u001b[39;49m\u001b[43m)\u001b[49m[\u001b[38;5;241m0\u001b[39m]\n",
      "File \u001b[0;32m/usr/lib/python3.10/random.py:506\u001b[0m, in \u001b[0;36mRandom.choices\u001b[0;34m(self, population, weights, cum_weights, k)\u001b[0m\n\u001b[1;32m    503\u001b[0m             result[i] \u001b[38;5;241m=\u001b[39m population[j]\n\u001b[1;32m    504\u001b[0m     \u001b[38;5;28;01mreturn\u001b[39;00m result\n\u001b[0;32m--> 506\u001b[0m \u001b[38;5;28;01mdef\u001b[39;00m \u001b[38;5;21mchoices\u001b[39m(\u001b[38;5;28mself\u001b[39m, population, weights\u001b[38;5;241m=\u001b[39m\u001b[38;5;28;01mNone\u001b[39;00m, \u001b[38;5;241m*\u001b[39m, cum_weights\u001b[38;5;241m=\u001b[39m\u001b[38;5;28;01mNone\u001b[39;00m, k\u001b[38;5;241m=\u001b[39m\u001b[38;5;241m1\u001b[39m):\n\u001b[1;32m    507\u001b[0m \u001b[38;5;250m    \u001b[39m\u001b[38;5;124;03m\"\"\"Return a k sized list of population elements chosen with replacement.\u001b[39;00m\n\u001b[1;32m    508\u001b[0m \n\u001b[1;32m    509\u001b[0m \u001b[38;5;124;03m    If the relative weights or cumulative weights are not specified,\u001b[39;00m\n\u001b[1;32m    510\u001b[0m \u001b[38;5;124;03m    the selections are made with equal probability.\u001b[39;00m\n\u001b[1;32m    511\u001b[0m \n\u001b[1;32m    512\u001b[0m \u001b[38;5;124;03m    \"\"\"\u001b[39;00m\n\u001b[1;32m    513\u001b[0m     random \u001b[38;5;241m=\u001b[39m \u001b[38;5;28mself\u001b[39m\u001b[38;5;241m.\u001b[39mrandom\n",
      "\u001b[0;31mKeyboardInterrupt\u001b[0m: "
     ]
    }
   ],
   "source": [
    "#x=GA(50,0.1)\n",
    "#print(actual_himmelblau(x.position))\n",
    "#print(is_feasable(x.position))\n",
    "\n",
    "times=[10**(-3),10**(-2),10**(-1),1]\n",
    "num_trys=1000\n",
    "print(\"Function : Himmelblau\")\n",
    "print(\"Population size: \" + \"50\")\n",
    "print(\"Num dimensions: \" + \"5\")\n",
    "\n",
    "\n",
    "for allowed_time in times:\n",
    "    suma=0\n",
    "    counter=0\n",
    "    for _ in range(num_trys):\n",
    "        ind=GA(50,allowed_time)\n",
    "        if is_feasable(ind.position):\n",
    "            suma+=actual_himmelblau(ind.position)\n",
    "            counter+=1\n",
    "        \n",
    "    suma=-suma\n",
    "    suma/=counter\n",
    "    \n",
    "    print(\"    Time : \" + str(allowed_time))\n",
    "    print(\"    NumHits : \" + str(counter) + \"/\" + str(num_trys))\n",
    "    print(\"    Average minimum: \" +str(suma))\n",
    "    print(\"\\n\")"
   ]
  },
  {
   "cell_type": "code",
   "execution_count": null,
   "id": "df12a5cc-9999-4f2e-a3bb-da0593732c66",
   "metadata": {},
   "outputs": [],
   "source": []
  }
 ],
 "metadata": {
  "kernelspec": {
   "display_name": "Python 3 (ipykernel)",
   "language": "python",
   "name": "python3"
  },
  "language_info": {
   "codemirror_mode": {
    "name": "ipython",
    "version": 3
   },
   "file_extension": ".py",
   "mimetype": "text/x-python",
   "name": "python",
   "nbconvert_exporter": "python",
   "pygments_lexer": "ipython3",
   "version": "3.10.12"
  }
 },
 "nbformat": 4,
 "nbformat_minor": 5
}
