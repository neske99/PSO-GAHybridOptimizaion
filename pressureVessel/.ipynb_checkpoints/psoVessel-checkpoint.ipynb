{
 "cells": [
  {
   "cell_type": "code",
   "execution_count": 5,
   "metadata": {},
   "outputs": [],
   "source": [
    "import numpy as np\n",
    "import random\n",
    "import pandas as pd \n",
    "from copy import deepcopy\n",
    "import math\n",
    "import time\n",
    "from math import ceil,floor"
   ]
  },
  {
   "cell_type": "code",
   "execution_count": 6,
   "metadata": {},
   "outputs": [],
   "source": [
    "def g1(x):\n",
    "    x1=x[0]\n",
    "    x2=x[1]\n",
    "    x3=x[2]\n",
    "    x4=x[3]\n",
    "    \n",
    "    return (-x1 + 0.0193*x3)"
   ]
  },
  {
   "cell_type": "code",
   "execution_count": 7,
   "metadata": {},
   "outputs": [],
   "source": [
    "def g2(x):\n",
    "    x1=x[0]\n",
    "    x2=x[1]\n",
    "    x3=x[2]\n",
    "    x4=x[3]\n",
    "   \n",
    "    \n",
    "    return (-x2 + 0.0095*x3)"
   ]
  },
  {
   "cell_type": "code",
   "execution_count": 8,
   "metadata": {},
   "outputs": [],
   "source": [
    "def g3(x):\n",
    "    x1=x[0]\n",
    "    x2=x[1]\n",
    "    x3=x[2]\n",
    "    x4=x[3]\n",
    "    pi=math.pi\n",
    "\n",
    "    return  (-pi*x3**2*x4 - (4/3)*pi*x3**3 + 1296000) "
   ]
  },
  {
   "cell_type": "code",
   "execution_count": 9,
   "metadata": {},
   "outputs": [],
   "source": [
    "def g4(x):\n",
    "    x1=x[0]\n",
    "    x2=x[1]\n",
    "    x3=x[2]\n",
    "    x4=x[3]\n",
    "    return (x4-240)"
   ]
  },
  {
   "cell_type": "code",
   "execution_count": 10,
   "metadata": {},
   "outputs": [],
   "source": [
    "def is_feasable(x):\n",
    "    x1=x[0]\n",
    "    x2=x[1]\n",
    "    x3=x[2]\n",
    "    x4=x[3]\n",
    "  \n",
    "    if x1<0.0625  or x1>99*0.0625:\n",
    "        #print(\"x1\")\n",
    "        return False\n",
    "    if x2<0.0625 or x2>99*0.0625:\n",
    "        #print(\"x2\")\n",
    "        return False\n",
    "        \n",
    "    if x3<10 or x3>200:\n",
    "        #print(\"x3\")\n",
    "        return False\n",
    "    if x4<10 or x4>200:\n",
    "        #print(\"x4\")\n",
    "        return False\n",
    "    \n",
    "\n",
    "    g1res=g1(x)\n",
    "    g2res=g2(x)\n",
    "    g3res=g3(x)\n",
    "    g4res=g4(x)\n",
    "    \n",
    "    if  g1res>0:\n",
    "        #print(\"g1\")\n",
    "        return False\n",
    "    if g2res>0:\n",
    "        #print(\"g2\")\n",
    "        return False\n",
    "    if  g3res>0:\n",
    "        #print(\"g3\")\n",
    "        return False\n",
    "    if g4res>0:\n",
    "        return False\n",
    "    return True\n",
    "    "
   ]
  },
  {
   "cell_type": "code",
   "execution_count": 46,
   "metadata": {},
   "outputs": [],
   "source": [
    "def vessel(x):\n",
    "    x1=x[0]\n",
    "    x2=x[1]\n",
    "    x3=x[2]\n",
    "    x4=x[3]\n",
    "    \n",
    "    toReturn= -(0.6224*x1*x3*x4 + 1.7781*x2*x3**2 + 3.1661*x1**2*x4 + 19.84*x1**2*x3)\n",
    "    penalty=500000\n",
    "    g1res=g1(x)\n",
    "    if g1res>0:\n",
    "        toReturn+=-g1res*penalty\n",
    "    \n",
    "    \n",
    "    g2res=g2(x)\n",
    "    if g2res>0:\n",
    "        toReturn+=-g2res*penalty\n",
    "    \n",
    "    \n",
    "    g3res=g3(x)\n",
    "    if g3res>0:\n",
    "        toReturn+=-g3res*penalty\n",
    "    g4res=g4(x)\n",
    "    if g4res>0:\n",
    "        toReturn+=-g4res*penalty\n",
    "    return toReturn"
   ]
  },
  {
   "cell_type": "code",
   "execution_count": 12,
   "metadata": {},
   "outputs": [],
   "source": [
    "def actual_vessel(x):\n",
    "    x1=x[0]\n",
    "    x2=x[1]\n",
    "    x3=x[2]\n",
    "    x4=x[3]\n",
    "    \n",
    "    \n",
    "    return -(0.6224*x1*x3*x4 + 1.7781*x2*x3**2 + 3.1661*x1**2*x4 + 19.84*x1**2*x3)"
   ]
  },
  {
   "cell_type": "code",
   "execution_count": 13,
   "metadata": {},
   "outputs": [],
   "source": [
    "class Particle:\n",
    "    global_best_position = None\n",
    "    global_best_value = None\n",
    "    \n",
    "    def __init__(self, bounds, obj_func, c_i,\n",
    "                 c_p, c_g):\n",
    "        self.lower_bounds = np.array([bound[0] for bound in bounds])\n",
    "        self.upper_bounds = np.array([bound[1] for bound in bounds])\n",
    "        \n",
    "        self.position = np.random.uniform(self.lower_bounds, self.upper_bounds, len(bounds))\n",
    "        self.velocity = np.random.uniform(self.lower_bounds - self.upper_bounds,\n",
    "                                          self.upper_bounds - self.lower_bounds,\n",
    "                                          len(bounds))\n",
    "\n",
    "        self.personal_best_position = self.position.copy()\n",
    "        \n",
    "        self.obj_func = obj_func\n",
    "        self.c_i = c_i\n",
    "        self.c_p = c_p\n",
    "        self.c_g = c_g\n",
    "        \n",
    "        self.value = obj_func(self.position)\n",
    "        self.personal_best_value = obj_func(self.personal_best_position)\n",
    "\n",
    "        if Particle.global_best_value is None or Particle.global_best_value > self.value:\n",
    "            Particle.global_best_value = self.value\n",
    "            Particle.global_best_position = self.position.copy()\n",
    "        \n",
    "    def update_position(self):\n",
    "        self.position = np.clip(self.position + self.velocity,\n",
    "                                self.lower_bounds,\n",
    "                                self.upper_bounds)\n",
    "        self.value = self.obj_func(self.position)\n",
    "        if self.value < self.personal_best_value:\n",
    "            self.personal_best_value = self.value\n",
    "            self.personal_best_position = self.position.copy()\n",
    "            if self.value < Particle.global_best_value:\n",
    "                Particle.global_best_value = self.value\n",
    "                Particle.global_best_position = self.position.copy()\n",
    "    \n",
    "    def update_velocity(self):\n",
    "        r_p = np.random.random(self.velocity.shape)\n",
    "        r_s = np.random.random(self.velocity.shape)\n",
    "# mozda bi imalo smisla da normiramo vektore pre ovoga\n",
    "# mozda i value ukljuciti pazljivo\n",
    "        personal_direction=(self.personal_best_position - self.position)\n",
    "        global_direction=(Particle.global_best_position - self.position)\n",
    "        \n",
    "        #if any([x>10**(-8) for x in personal_direction]):\n",
    "         #   personal_direction/=np.linalg.norm(personal_direction)\n",
    "        #if any([x!=0 for x in global_direction]):\n",
    "         #   global_direction/=np.linalg.norm(global_direction)\n",
    "        \n",
    "        cognitive_velocity = r_p * self.c_p * (personal_direction)#*np.linalg.norm(self.velocity)\n",
    "        social_velocity = r_s * self.c_g * (global_direction)#*np.linalg.norm(self.velocity)\n",
    "        inertia = self.c_i * self.velocity\n",
    "        self.velocity = np.clip(inertia + cognitive_velocity + social_velocity,2*self.lower_bounds,2*self.upper_bounds)\n",
    "        "
   ]
  },
  {
   "cell_type": "code",
   "execution_count": 39,
   "metadata": {},
   "outputs": [],
   "source": [
    "\n",
    "def pso(swarm_size, num_dimensions, c_i, c_p, c_g, allowed_time,func_to_minimize):\n",
    "    bounds = [(0.0625,99* 0.0625),(0.0625,99* 0.0625),(10,200),(10,200)]\n",
    "    \n",
    "    swarm = [Particle(bounds=bounds,\n",
    "                      obj_func=func_to_minimize,\n",
    "                      c_i=c_i,\n",
    "                      c_p=c_p,\n",
    "                      c_g=c_g) for _ in range(swarm_size)]\n",
    "    #print(Particle.global_best_value)\n",
    "    start=time.time()\n",
    "    while True:\n",
    "        for particle in swarm:\n",
    "            particle.update_velocity()\n",
    "            particle.update_position()\n",
    "        if time.time() - start>allowed_time:\n",
    "            tmp=Particle.global_best_position\n",
    "            #if  not is_feasable(Particle.global_best_position):\n",
    "                #print(\"not feasable!\")\n",
    "                #print(g1(Particle.global_best_position))\n",
    "                #print(g2(Particle.global_best_position))\n",
    "                #print(g3(Particle.global_best_position))\n",
    "            Particle.global_best_position=None\n",
    "            Particle.global_best_value=None\n",
    "            return tmp"
   ]
  },
  {
   "cell_type": "code",
   "execution_count": 37,
   "metadata": {},
   "outputs": [
    {
     "data": {
      "text/plain": [
       "-2692.828389798238"
      ]
     },
     "execution_count": 37,
     "metadata": {},
     "output_type": "execute_result"
    }
   ],
   "source": [
    "pso(swarm_size=50, num_dimensions=4, c_i=0.7, c_p=1.0, c_g=1.0, allowed_time=0.1,func_to_minimize=vessel)"
   ]
  },
  {
   "cell_type": "code",
   "execution_count": 44,
   "metadata": {},
   "outputs": [],
   "source": [
    "times=[10**(-2),10**(-1),1]\n",
    "num_trys=1000"
   ]
  },
  {
   "cell_type": "code",
   "execution_count": 48,
   "metadata": {},
   "outputs": [
    {
     "ename": "NameError",
     "evalue": "name 'himmelblau' is not defined",
     "output_type": "error",
     "traceback": [
      "\u001b[0;31m---------------------------------------------------------------------------\u001b[0m",
      "\u001b[0;31mNameError\u001b[0m                                 Traceback (most recent call last)",
      "Cell \u001b[0;32mIn[48], line 1\u001b[0m\n\u001b[0;32m----> 1\u001b[0m pso(swarm_size\u001b[38;5;241m=\u001b[39m\u001b[38;5;241m50\u001b[39m, num_dimensions\u001b[38;5;241m=\u001b[39m\u001b[38;5;241m5\u001b[39m, c_i\u001b[38;5;241m=\u001b[39m\u001b[38;5;241m0.7\u001b[39m, c_p\u001b[38;5;241m=\u001b[39m\u001b[38;5;241m1.0\u001b[39m, c_g\u001b[38;5;241m=\u001b[39m\u001b[38;5;241m1.0\u001b[39m, allowed_time\u001b[38;5;241m=\u001b[39m\u001b[38;5;241m1\u001b[39m,func_to_minimize\u001b[38;5;241m=\u001b[39m\u001b[43mhimmelblau\u001b[49m)\n",
      "\u001b[0;31mNameError\u001b[0m: name 'himmelblau' is not defined"
     ]
    }
   ],
   "source": [
    "pso(swarm_size=50, num_dimensions=5, c_i=0.7, c_p=1.0, c_g=1.0, allowed_time=1,func_to_minimize=himmelblau)"
   ]
  },
  {
   "cell_type": "code",
   "execution_count": null,
   "metadata": {},
   "outputs": [],
   "source": []
  },
  {
   "cell_type": "code",
   "execution_count": null,
   "metadata": {},
   "outputs": [],
   "source": []
  },
  {
   "cell_type": "code",
   "execution_count": null,
   "metadata": {},
   "outputs": [],
   "source": []
  },
  {
   "cell_type": "code",
   "execution_count": 49,
   "metadata": {},
   "outputs": [
    {
     "name": "stdout",
     "output_type": "stream",
     "text": [
      "Function : vessel\n",
      "Swarm size: 50\n",
      "Num dimensions: 2\n",
      "c_i: 0.7\n",
      "c_p: 1.0\n",
      "c_g: 1.0\n"
     ]
    },
    {
     "ename": "ZeroDivisionError",
     "evalue": "division by zero",
     "output_type": "error",
     "traceback": [
      "\u001b[0;31m---------------------------------------------------------------------------\u001b[0m",
      "\u001b[0;31mZeroDivisionError\u001b[0m                         Traceback (most recent call last)",
      "Cell \u001b[0;32mIn[49], line 15\u001b[0m\n\u001b[1;32m     13\u001b[0m         counter\u001b[38;5;241m+\u001b[39m\u001b[38;5;241m=\u001b[39m\u001b[38;5;241m1\u001b[39m\n\u001b[1;32m     14\u001b[0m         suma\u001b[38;5;241m+\u001b[39m\u001b[38;5;241m=\u001b[39mactual_vessel(position)\n\u001b[0;32m---> 15\u001b[0m suma\u001b[38;5;241m/\u001b[39m\u001b[38;5;241m=\u001b[39mcounter\n\u001b[1;32m     17\u001b[0m \u001b[38;5;28mprint\u001b[39m(\u001b[38;5;124m\"\u001b[39m\u001b[38;5;124m    Time : \u001b[39m\u001b[38;5;124m\"\u001b[39m \u001b[38;5;241m+\u001b[39m \u001b[38;5;28mstr\u001b[39m(allowed_time))\n\u001b[1;32m     18\u001b[0m \u001b[38;5;28mprint\u001b[39m(\u001b[38;5;124m\"\u001b[39m\u001b[38;5;124m    Average mistake: \u001b[39m\u001b[38;5;124m\"\u001b[39m\u001b[38;5;241m+\u001b[39m \u001b[38;5;28mstr\u001b[39m(suma))\n",
      "\u001b[0;31mZeroDivisionError\u001b[0m: division by zero"
     ]
    }
   ],
   "source": [
    " print(\"Function : vessel\")\n",
    "print(\"Swarm size: \" + \"50\")\n",
    "print(\"Num dimensions: \" + \"2\")\n",
    "print(\"c_i: \"+\"0.7\")\n",
    "print(\"c_p: \" + \"1.0\")\n",
    "print(\"c_g: \" + \"1.0\")\n",
    "for allowed_time in times:\n",
    "    suma=0\n",
    "    counter=0\n",
    "    for _ in range(num_trys):\n",
    "        position=pso(swarm_size=50, num_dimensions=2, c_i=0.7, c_p=1.0, c_g=1.0, allowed_time=allowed_time,func_to_minimize=vessel)\n",
    "        if is_feasable(position):\n",
    "            counter+=1\n",
    "            suma+=actual_vessel(position)\n",
    "    suma/=counter\n",
    "   \n",
    "    print(\"    Time : \" + str(allowed_time))\n",
    "    print(\"    Average mistake: \"+ str(suma))\n",
    "    print(\"    NumHits : \"+str(counter)+\"/\"+str(num_trys))\n",
    "    print(\"\\n\")"
   ]
  },
  {
   "cell_type": "code",
   "execution_count": null,
   "metadata": {},
   "outputs": [],
   "source": [
    "rastrigin([1,2])"
   ]
  }
 ],
 "metadata": {
  "kernelspec": {
   "display_name": "Python 3 (ipykernel)",
   "language": "python",
   "name": "python3"
  },
  "language_info": {
   "codemirror_mode": {
    "name": "ipython",
    "version": 3
   },
   "file_extension": ".py",
   "mimetype": "text/x-python",
   "name": "python",
   "nbconvert_exporter": "python",
   "pygments_lexer": "ipython3",
   "version": "3.10.12"
  }
 },
 "nbformat": 4,
 "nbformat_minor": 4
}
