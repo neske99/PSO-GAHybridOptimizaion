{
 "cells": [
  {
   "cell_type": "code",
   "execution_count": 1,
   "id": "cc5cef41-1281-4cb7-87cc-74ab2f493699",
   "metadata": {},
   "outputs": [],
   "source": [
    "import numpy as np\n",
    "import random\n",
    "import pandas as pd \n",
    "from copy import deepcopy\n",
    "import math\n",
    "import time"
   ]
  },
  {
   "cell_type": "code",
   "execution_count": 2,
   "id": "afbc7d71-5fca-4da1-b866-e51e055783d7",
   "metadata": {},
   "outputs": [],
   "source": [
    "def rastrigin(x):\n",
    "    A = 10\n",
    "    n = len(x)\n",
    "    return -(A*n + sum(x[i]**2 - A*np.cos(2*np.pi*x[i]) for i in range(n)))"
   ]
  },
  {
   "cell_type": "code",
   "execution_count": 3,
   "id": "5f2c7642-e148-4112-adf3-a10884361917",
   "metadata": {},
   "outputs": [],
   "source": [
    "def rosenbrock(x):\n",
    "    a = 1\n",
    "    b = 100\n",
    "    return -((a - x[0])**2 + b*(x[1] - x[0]**2)**2)"
   ]
  },
  {
   "cell_type": "code",
   "execution_count": 4,
   "id": "584320d9-a3cf-4c6b-b70a-e2defe772774",
   "metadata": {},
   "outputs": [],
   "source": [
    "def shaffer(x):\n",
    "    return -( 0.5 + (np.sin((x[0]**2 +x[1]**2))**2-0.5)/(1.0 + 0.001*(x[0]**2+x[1]**2))**2)"
   ]
  },
  {
   "cell_type": "code",
   "execution_count": 5,
   "id": "7ff5d24e-d5ca-4abd-a9e5-faa4e93c5b40",
   "metadata": {},
   "outputs": [],
   "source": [
    "class Individual:\n",
    "    global_best_position=None\n",
    "    global_best_fitness=None\n",
    "    def __init__(self,bounds, velocity_calc,calc_fitness):\n",
    "        self.lower_bounds = np.array([bound[0] for bound in bounds])\n",
    "        self.upper_bounds = np.array([bound[1] for bound in bounds])        \n",
    "        \n",
    "        self.position = np.random.uniform(self.lower_bounds, self.upper_bounds, len(bounds))\n",
    "        self.velocity = np.random.uniform(self.lower_bounds - self.upper_bounds,\n",
    "                                          self.upper_bounds - self.lower_bounds,\n",
    "                                          len(bounds))\n",
    "        self.calc_fitness=calc_fitness\n",
    "        self.fitness=calc_fitness(self.position)\n",
    "        \n",
    "\n",
    "        self.velocity_calc=velocity_calc\n",
    "        \n",
    "        self.personal_best_fitness=self.fitness\n",
    "        self.personal_best_position=self.position.copy()\n",
    "        \n",
    "        if Individual.global_best_fitness is None or Individual.global_best_fitness<self.fitness:\n",
    "                Individual.global_best_fitness=self.fitness\n",
    "                Individual.global_best_position=self.position.copy()\n",
    "    \n",
    "        \n",
    "    def update_position(self):\n",
    "        self.position = np.clip(self.position + self.velocity,\n",
    "                                self.lower_bounds,\n",
    "                                self.upper_bounds)\n",
    "        self.update_fitness()\n",
    "       \n",
    "                \n",
    "    def update_velocity(self):\n",
    "        personal_direction=(self.personal_best_position - self.position)\n",
    "        global_direction=(Individual.global_best_position - self.position)\n",
    "                \n",
    "        cognitive_velocity =random.random() * self.velocity_calc[\"cognitive\"]*personal_direction\n",
    "        social_velocity =random.random() * self.velocity_calc[\"group\"]* global_direction\n",
    "        \n",
    "        inertia = self.velocity_calc[\"inertia\"] * self.velocity\n",
    "        self.velocity = inertia + cognitive_velocity + social_velocity\n",
    "        self.velocity=np.clip(self.velocity,2*self.lower_bounds,2*self.upper_bounds)\n",
    "    def update_fitness(self):\n",
    "        self.fitness=self.calc_fitness(self.position)\n",
    "        if self.personal_best_fitness is None or self.fitness>self.personal_best_fitness:\n",
    "            self.personal_best_fitness=self.fitness\n",
    "            self.personal_best_position=self.position.copy()\n",
    "            if Individual.global_best_fitness is None or Individual.global_best_fitness<self.fitness:\n",
    "                Individual.global_best_fitness=self.fitness\n",
    "                Individual.global_best_position=self.position.copy()\n",
    "    "
   ]
  },
  {
   "cell_type": "code",
   "execution_count": 6,
   "id": "a1122f23-6ba6-4213-8664-21c36666f694",
   "metadata": {},
   "outputs": [],
   "source": [
    "def selection(population:Individual) ->Individual:\n",
    "    #roulete\n",
    "    return random.choices(population=list(zip(range(len(population)),population)),weights=[-ind.fitness for ind in population],k=1)[0]"
   ]
  },
  {
   "cell_type": "code",
   "execution_count": 7,
   "id": "d2361c51-556c-4251-af93-d456b747300e",
   "metadata": {},
   "outputs": [],
   "source": [
    "def crossover(p1:Individual,p2:Individual,c1:Individual,c2:Individual):\n",
    "    coef=random.random()\n",
    "    c1.position=coef*p1.position + (1-coef)*p2.position\n",
    "\n",
    "    c2.position=coef*p2.position +(1-coef)*p1.position\n",
    "    "
   ]
  },
  {
   "cell_type": "code",
   "execution_count": 8,
   "id": "26baa23f-07f1-4221-a793-bf436ec4eab9",
   "metadata": {},
   "outputs": [],
   "source": [
    "def mutation(ind:Individual,mut_prob=0.01):\n",
    "    #TODO\n",
    "    pass"
   ]
  },
  {
   "cell_type": "code",
   "execution_count": 9,
   "id": "c41c04f9-8663-43d9-aef6-8c54c34dc851",
   "metadata": {},
   "outputs": [],
   "source": [
    "def GA(population:[Individual],pop_size,num_iters:int,elitism_size=6):\n",
    "    \n",
    "    new_population=population[:]\n",
    "    for _ in range(0,num_iters):\n",
    "        sorted(population,key=lambda x:x.fitness,reverse=True)\n",
    "        for i in range(elitism_size,pop_size,2):\n",
    "            p1=selection(population)[1]\n",
    "            p2=selection(population)[1]\n",
    "            \n",
    "            crossover(p1,p2,new_population[i],new_population[i+1])\n",
    "            mutation(new_population[i])\n",
    "            mutation(new_population[i+1])\n",
    "        population=new_population[:]\n",
    "    "
   ]
  },
  {
   "cell_type": "code",
   "execution_count": 10,
   "id": "d1506820-b8f9-405c-9dc0-387a96f64f8d",
   "metadata": {},
   "outputs": [],
   "source": [
    "vezbe_velocity_calc={\n",
    "    \"cognitive\":0.7 ,\n",
    "    \"group\":1.0 ,\n",
    "    \"inertia\":1.0\n",
    "}"
   ]
  },
  {
   "cell_type": "code",
   "execution_count": 11,
   "id": "b020edcd-4263-42b0-8d85-4d4b99cb142a",
   "metadata": {},
   "outputs": [],
   "source": [
    "def hybrid(swarm_size,num_dimensions,num_iters,allowed_time,velocity_calc,fitness_calc):\n",
    "    \n",
    "    bounds = [(-5.12, 5.12) for _ in range(num_dimensions)]\n",
    "    \n",
    "    swarm = [Individual(bounds=bounds,\n",
    "                      calc_fitness=fitness_calc,velocity_calc=velocity_calc,\n",
    "                      ) for i in range(4*swarm_size)]\n",
    "    \n",
    "    \n",
    "    \n",
    "    start=time.time()\n",
    "    GA(swarm,swarm_size*4,int(num_iters/4))\n",
    "    sorted(swarm,key=lambda x:x.fitness,reverse=True)\n",
    "    swarm=swarm[:swarm_size]\n",
    "    for psoiter in range(num_iters):\n",
    "        \n",
    "        for i in range(len(swarm)):\n",
    "               \n",
    "            swarm[i].update_velocity()\n",
    "            swarm[i].update_position()\n",
    "            \n",
    "            swarm[i].update_fitness()\n",
    "       \n",
    "        \n",
    "        if time.time()-start>allowed_time:\n",
    "                tmp=Individual.global_best_fitness\n",
    "                Individual.global_best_fitness=None\n",
    "                Individual.global_best_position=None\n",
    "                return tmp\n",
    "    print(\"got out\")\n",
    "    return Individual.global_best_fitness"
   ]
  },
  {
   "cell_type": "code",
   "execution_count": 12,
   "id": "fc74270d-fff7-43f9-a118-5d9818427e2f",
   "metadata": {},
   "outputs": [
    {
     "name": "stdout",
     "output_type": "stream",
     "text": [
      "got out\n"
     ]
    },
    {
     "data": {
      "text/plain": [
       "-5.910146291210176e-05"
      ]
     },
     "execution_count": 12,
     "metadata": {},
     "output_type": "execute_result"
    }
   ],
   "source": [
    "hybrid(swarm_size=50,num_dimensions=2,num_iters=700,allowed_time=1,velocity_calc=vezbe_velocity_calc,fitness_calc=rosenbrock)"
   ]
  },
  {
   "cell_type": "code",
   "execution_count": 13,
   "id": "3048df6a-c722-48b0-89ea-233c17c15b9e",
   "metadata": {},
   "outputs": [
    {
     "data": {
      "text/plain": [
       "-5.910146291210176e-05"
      ]
     },
     "execution_count": 13,
     "metadata": {},
     "output_type": "execute_result"
    }
   ],
   "source": [
    "hybrid(swarm_size=50,num_dimensions=2,num_iters=800,allowed_time=1,velocity_calc=vezbe_velocity_calc,fitness_calc=rastrigin)"
   ]
  },
  {
   "cell_type": "code",
   "execution_count": 14,
   "id": "1c606188-cc79-4d0c-963d-4c7a4e3e25aa",
   "metadata": {},
   "outputs": [
    {
     "data": {
      "text/plain": [
       "-1.0346047907283662e-09"
      ]
     },
     "execution_count": 14,
     "metadata": {},
     "output_type": "execute_result"
    }
   ],
   "source": [
    "hybrid(swarm_size=50,num_dimensions=2,num_iters=900,allowed_time=1,velocity_calc=vezbe_velocity_calc,fitness_calc=shaffer)"
   ]
  }
 ],
 "metadata": {
  "kernelspec": {
   "display_name": "Python 3 (ipykernel)",
   "language": "python",
   "name": "python3"
  },
  "language_info": {
   "codemirror_mode": {
    "name": "ipython",
    "version": 3
   },
   "file_extension": ".py",
   "mimetype": "text/x-python",
   "name": "python",
   "nbconvert_exporter": "python",
   "pygments_lexer": "ipython3",
   "version": "3.10.12"
  }
 },
 "nbformat": 4,
 "nbformat_minor": 5
}
